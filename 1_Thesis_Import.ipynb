{
  "cells": [
    {
      "cell_type": "markdown",
      "metadata": {
        "id": "8ZoBUFg1cu9w"
      },
      "source": [
        "Msc Data Science and Economics\n",
        "\n",
        "Università degli Studi di Milano\n",
        "\n",
        "Martina Viggiano (954603)\n",
        "\n",
        "## *Perspectives on data sharing: a social media analysis*\n",
        "\n",
        "# **1. Data Import and Cleaning Notebook**\n",
        "\n",
        "Summary:\n",
        "\n",
        "1.   INITIALIZE\n",
        "2.   DATA EXTRACTION\n",
        "    * 2.1 Define topics, write queries\n",
        "    * 2.2 Serialize data\n",
        "    * 2.3 Amount of tweets collected\n",
        "3. DATA CLEANING\n",
        "    * 3.1 Load back data\n",
        "    * 3.2 Clean data based on words, author ID, and number of tags\n",
        "    * 3.3 Extract hashtags\n",
        "    * 3.4 Extract tags\n",
        "    * 3.5 Extract websites\n",
        "    * 3.6 Cleaning code\n",
        "    * 3.7 Number of conversations\n",
        "4. PRE AND POST COVID DATA\n",
        "5.  FILTERING DATA\n",
        "    * 5.1 Filter by most frequent users\n",
        "    * 5.2 Filter by keywords: research and academy terms\n",
        "    * 5.3 Combine dfs of the 2 previous results and drop duplicates\n",
        "6. TIME SERIES\n",
        "7. FIRST TWEETS\n",
        "8.PRE-PROCESSING DATA FILTERED BY KEYWORDS\n",
        "\n",
        "\n"
      ]
    },
    {
      "cell_type": "markdown",
      "metadata": {
        "id": "A3Fk6kVHdGc_"
      },
      "source": [
        "---"
      ]
    },
    {
      "cell_type": "markdown",
      "metadata": {
        "id": "y-cGEaY3eKyr"
      },
      "source": [
        "## 1. **INITIALIZE**\n"
      ]
    },
    {
      "cell_type": "markdown",
      "metadata": {
        "id": "DdzyprkuyLEY"
      },
      "source": [
        "We connect the notebook to our personal Google Drive folder: it will be used to store and load data."
      ]
    },
    {
      "cell_type": "code",
      "execution_count": null,
      "metadata": {
        "id": "FGvkXHqoOFUn"
      },
      "outputs": [],
      "source": [
        "# Connect Drive\n",
        "from google.colab import drive\n",
        "drive.mount('/content/drive')"
      ]
    },
    {
      "cell_type": "code",
      "execution_count": null,
      "metadata": {
        "id": "q9RYd2oYOHre"
      },
      "outputs": [],
      "source": [
        "import sys\n",
        "sys.path.append('/content/drive/My Drive/Università/Thesis/')"
      ]
    },
    {
      "cell_type": "markdown",
      "metadata": {
        "id": "guoJaMexyVrg"
      },
      "source": [
        "We import and download libraries and packages."
      ]
    },
    {
      "cell_type": "code",
      "execution_count": null,
      "metadata": {
        "id": "nwVwQylXOzj9"
      },
      "outputs": [],
      "source": [
        "# install tweepy\n",
        "!pip install tweepy==4.4.0"
      ]
    },
    {
      "cell_type": "code",
      "execution_count": null,
      "metadata": {
        "id": "NLM5ueaE34q1"
      },
      "outputs": [],
      "source": [
        "# install unidecode\n",
        "!pip install -U spacy unidecode"
      ]
    },
    {
      "cell_type": "code",
      "execution_count": null,
      "metadata": {
        "id": "7eMayp-c5T9i"
      },
      "outputs": [],
      "source": [
        "# install spacy and download english language\n",
        "!python -m spacy download en_core_web_sm"
      ]
    },
    {
      "cell_type": "code",
      "execution_count": null,
      "metadata": {
        "id": "JFDla_GwPMqX"
      },
      "outputs": [],
      "source": [
        "!pip install langdetect"
      ]
    },
    {
      "cell_type": "code",
      "execution_count": null,
      "metadata": {
        "id": "x-zB5u9kOPD1"
      },
      "outputs": [],
      "source": [
        "# Import libraries\n",
        "import pickle\n",
        "import tweepy\n",
        "from tweepy.auth import OAuthHandler\n",
        "import numpy as np\n",
        "import pandas as pd\n",
        "import datetime\n",
        "import re\n",
        "from unidecode import unidecode\n",
        "from nltk.corpus import stopwords\n",
        "import matplotlib.pyplot as plt\n",
        "import statistics\n",
        "import spacy\n",
        "from sklearn.feature_extraction.text import CountVectorizer\n",
        "from collections import Counter\n",
        "import datetime\n",
        "from tqdm.notebook import tqdm\n",
        "tqdm.pandas()\n",
        "import langdetect\n",
        "from langdetect import detect"
      ]
    },
    {
      "cell_type": "markdown",
      "metadata": {
        "id": "bai7w8PCed6a"
      },
      "source": [
        "## 2. **DATA EXTRACTION**\n"
      ]
    },
    {
      "cell_type": "markdown",
      "metadata": {
        "id": "ZZp-UZzvegTa"
      },
      "source": [
        "### 2.1 Define topics, write queries"
      ]
    },
    {
      "cell_type": "markdown",
      "metadata": {
        "id": "prjiVAxOxdx1"
      },
      "source": [
        "We are looking for tweets which text contains:\n",
        "\n",
        "*   #Opendata\n",
        "*   opendata\n",
        "*   open data\n",
        "*   #Datasharing\n",
        "*   datasharing\n",
        "*   data sharing\n",
        "*   #Openscience\n",
        "*   openscience\n",
        "*   open science\n",
        "*   #Openresearch\n",
        "*   open research\n",
        "\n",
        "Moreover, for each query (topic) we extract a separate df in which we kept only tweets published by verified users.\n",
        "\n",
        "To reduce chances to extract false positives (tweets which are not relevant to our purpose), we further filter with respect to some conditions, based on terms and phares found in the collected tweets.\n",
        "\n",
        "In particular, we excluded twees containing:\n",
        "* media\n",
        "* videos\n",
        "* images\n",
        "* links\n",
        "* geolocation\n",
        "* a list of terms, lemmas and phrases.\n",
        "\n",
        "These conditions have been defined after multiple scans on the tweets retrieved by the queries."
      ]
    },
    {
      "cell_type": "code",
      "execution_count": null,
      "metadata": {
        "id": "zQIAdYMRLUsk"
      },
      "outputs": [],
      "source": [
        "client = tweepy.Client(bearer_token=\"key\")"
      ]
    },
    {
      "cell_type": "code",
      "execution_count": null,
      "metadata": {
        "id": "x2CjpTmx3tlu"
      },
      "outputs": [],
      "source": [
        "output = []\n",
        "for tweet in tweepy.Paginator(client.search_all_tweets,\n",
        "                              query=' #opendata -is:retweet -is:nullcast lang:en -has:media -has:videos -has:images -has:geo -has:links -gov -freelanc -marvel -rush -faq -hire -javascript -#EUOpenDataDays -pollution -plastic -\"check out\" -(hi there) -(dm is open) -\"read more\" -\"this article\" -\"is out!\" -\"police have shot\" -\"open access ucl\" -\"freelance\" -\"webinar\" -\"open for submission\" -\"happy new\" -\"open for commission\" -\"infected\" -\"anti-science\" -\"still open\" -\"bbc\" -\"episode\" -\"podcast\" -\"hiring\" -\"dm open\" -\"open the school\" -\"birthday\" -\"follow\" -\"fauci\" -\"biden\" -\"@CopernicusEU\" -\"cool\" -\"congrat\" -\"map\" -\"viral\" -\"lol\" -\"lmao\" -\"MusicHackFest\" -\"need help\" -\"#smartcities\" -\"work in progress\" -\"sex\" -\"gov\"',\n",
        "                              start_time=\"2021-01-01T00:00:00Z\",\n",
        "                              end_time=\"2021-12-31T00:00:00Z\",\n",
        "                              tweet_fields=['created_at', 'conversation_id'],\n",
        "                              expansions = ['author_id', 'in_reply_to_user_id'],\n",
        "                              max_results=400).flatten(limit=2000):\n",
        "\n",
        "    output.append({'text': tweet.text, 'author_id': tweet.author_id, 'tweet_id': tweet.id, 'date': tweet.created_at, 'conversation_id': tweet.conversation_id, 'reply_to_user_id': str(tweet.in_reply_to_user_id) } )"
      ]
    },
    {
      "cell_type": "code",
      "execution_count": null,
      "metadata": {
        "id": "kyRavfhKzMOE"
      },
      "outputs": [],
      "source": [
        "df_h_opendata_21 = pd.DataFrame(output)\n",
        "df_h_opendata_21"
      ]
    },
    {
      "cell_type": "code",
      "execution_count": null,
      "metadata": {
        "id": "OdAZqVgZJwcY"
      },
      "outputs": [],
      "source": [
        "data_merge_21 = pd.concat(\n",
        "                        [df_h_opendata_21, df_h_openresearch_21, df_h_openscience_21, df_h_datasharing_21,\n",
        "                         df_opendata_21, df_openresearch_21, df_openscience_21, df_datasharing_21,\n",
        "                         df_open_data_21, df_open_research_21, df_open_science_21, df_data_sharing_21,\n",
        "                         df_reasearch_data_share_21]\n",
        "                       ).sort_values('date').drop_duplicates().reset_index(drop=True).drop_duplicates(subset=['text'], keep='first')"
      ]
    },
    {
      "cell_type": "code",
      "execution_count": null,
      "metadata": {
        "id": "mbbopuxhkOUN"
      },
      "outputs": [],
      "source": [
        "with open(\"/content/drive/MyDrive/Università/Thesis/data_merge_21.pkl\", \"wb\") as f:\n",
        "    pickle.dump(data_merge_21, f)"
      ]
    },
    {
      "cell_type": "markdown",
      "metadata": {
        "id": "-oIU5lXqo2ss"
      },
      "source": [
        "We populate a dataframe with: the text of the tweet, the author ID, the tweet ID, the publication date, the conversation ID, the ID of the parent Tweet's author."
      ]
    },
    {
      "cell_type": "code",
      "execution_count": null,
      "metadata": {
        "id": "Ous7s1IdWRMS"
      },
      "outputs": [],
      "source": [
        "list_df_by_year = [data_merge_21, data_merge_20, data_merge_19, data_merge_18, data_merge_17, data_merge_16, data_merge_15, data_merge_14, data_merge_13, data_merge_12, data_merge_11, data_merge_10, data_merge_09, data_merge_08, data_merge_07]\n",
        "list_years = []\n",
        "list_counts = []\n",
        "for df in list_df_by_year:\n",
        "    list_years.append(df['date'][0].year)\n",
        "    list_counts.append(df.shape[0])"
      ]
    },
    {
      "cell_type": "code",
      "execution_count": null,
      "metadata": {
        "id": "rLCBBjG2xEkt"
      },
      "outputs": [],
      "source": [
        "df_count_per_year = pd.DataFrame(list(zip(list_years, list_counts)), columns =['year', 'count'])"
      ]
    },
    {
      "cell_type": "code",
      "execution_count": null,
      "metadata": {
        "id": "uF3ZpYOtdZWM"
      },
      "outputs": [],
      "source": [
        "df_count_per_year = df_count_per_year.iloc[::-1].reset_index(drop=True)"
      ]
    },
    {
      "cell_type": "markdown",
      "metadata": {
        "id": "fpEbd_uIelAj"
      },
      "source": [
        "### 2.2 Serialize data"
      ]
    },
    {
      "cell_type": "code",
      "execution_count": null,
      "metadata": {
        "id": "fdBPS9nrTHW3"
      },
      "outputs": [],
      "source": [
        "with open(\"/content/drive/MyDrive/Università/Thesis/df_count_per_year.pkl\", \"wb\") as f:\n",
        "    pickle.dump(df_count_per_year, f)"
      ]
    },
    {
      "cell_type": "markdown",
      "metadata": {
        "id": "W30UlNZUbphz"
      },
      "source": [
        "### 2.3 Amount of tweets collected"
      ]
    },
    {
      "cell_type": "markdown",
      "metadata": {
        "id": "2i6cw6NUf7RP"
      },
      "source": [
        "We merge the dfs by year - from 2007 to 2021 - dropping duplicates (entire rows) and dropping rows with identical texts."
      ]
    },
    {
      "cell_type": "markdown",
      "metadata": {
        "id": "r6nIRq5JiIEf"
      },
      "source": [
        "By merging all the dfs togetherwe obtained:"
      ]
    },
    {
      "cell_type": "code",
      "execution_count": null,
      "metadata": {
        "id": "LFWenTNHiMEP"
      },
      "outputs": [],
      "source": [
        "data_merge_all_years = pd.concat(\n",
        "                        [data_merge_07, data_merge_08, data_merge_09, data_merge_10, data_merge_11, data_merge_12, data_merge_13, data_merge_14, data_merge_15, data_merge_16, data_merge_17, data_merge_18, data_merge_19, data_merge_20, data_merge_21]\n",
        "                       ).sort_values('date').drop_duplicates().reset_index(drop=True).drop_duplicates(subset=['text'], keep='first')\n",
        "data_merge_all_years.shape[0] "
      ]
    },
    {
      "cell_type": "code",
      "execution_count": null,
      "metadata": {
        "id": "esiPqBBXiz3u"
      },
      "outputs": [],
      "source": [
        "with open(\"/content/drive/MyDrive/Università/Thesis/data_merge_all_years.pkl\", \"wb\") as f:\n",
        "    pickle.dump(data_merge_all_years, f)"
      ]
    },
    {
      "cell_type": "markdown",
      "metadata": {
        "id": "oXg8tXIUNus2"
      },
      "source": [
        "---"
      ]
    },
    {
      "cell_type": "markdown",
      "metadata": {
        "id": "7JTreIZyc-Ah"
      },
      "source": [
        "## 3. **DATA CLEANING**\n"
      ]
    },
    {
      "cell_type": "markdown",
      "metadata": {
        "id": "BivGHKXlewOp"
      },
      "source": [
        "### 3.1 Load back data"
      ]
    },
    {
      "cell_type": "markdown",
      "metadata": {
        "id": "JIJx8AU3wtDQ"
      },
      "source": [
        "We first re-load the \"full-data\" dataframes."
      ]
    },
    {
      "cell_type": "code",
      "execution_count": null,
      "metadata": {
        "id": "HGRyGguBdZaJ"
      },
      "outputs": [],
      "source": [
        "with open(\"/content/drive/MyDrive/Università/Thesis/data_merge_all_years.pkl\", \"rb\") as f:\n",
        "    data_merge_all_years = pickle.load(f)"
      ]
    },
    {
      "cell_type": "code",
      "execution_count": null,
      "metadata": {
        "id": "TnMeVuT7DXIw",
        "colab": {
          "base_uri": "https://localhost:8080/"
        },
        "outputId": "20446978-cedd-4e1c-f65a-ad7ea61752ef"
      },
      "outputs": [
        {
          "output_type": "execute_result",
          "data": {
            "text/plain": [
              "485268"
            ]
          },
          "metadata": {},
          "execution_count": 9
        }
      ],
      "source": [
        "data_merge_all_years.shape[0]"
      ]
    },
    {
      "cell_type": "code",
      "execution_count": null,
      "metadata": {
        "id": "VSS9VE1Ki5IO"
      },
      "outputs": [],
      "source": [
        "data_merge = data_merge_all_years"
      ]
    },
    {
      "cell_type": "markdown",
      "metadata": {
        "id": "1UFGOSVEbxf1"
      },
      "source": [
        "### 3.2 Clean data based on words, author ID, and number of tags"
      ]
    },
    {
      "cell_type": "markdown",
      "metadata": {
        "id": "SYgg-tSru3JV"
      },
      "source": [
        "We clean the resulting dfs, by excluding tweets containing some phrases and words.\n",
        "\n",
        "By cleaning we reduce the total number of rows from 485268 to 224784\n",
        "."
      ]
    },
    {
      "cell_type": "code",
      "execution_count": null,
      "metadata": {
        "id": "HJ44Iiuf1JHO"
      },
      "outputs": [],
      "source": [
        "remove_tweets = ['freelance', 'webinar', 'open for submission', 'happy new', 'open for commission',  'anti-science', 'still open', 'bbc', 'episode', 'podcast', 'hiring', 'dm open', 'PLOS', 'AISRT', 'fauci', 'open the school', 'birthday', 'thank', '@CopernicusEU', 'cool', 'congrat', 'map', '@EU_opendata', 'link', ' gov', 'music', 'trump', 'good morning', 'smartcit', 'smart cit', 'minister', ' rap ', 'boutique', 'opengov', 'police', ' kid ', ' kids ', 'uganda', 'blockchain', 'twitter', 'welcome ', 'webinar', 'workshop', ' site ', 'opengov', 'polit', 'google', 'website', 'jackson', ' city ', ' pic ', 'picture', 'tomorrow', 'nope', ' tax',  'country', 'global', 'CyberAlertHigh', 'pyhton', 'python', 'fuck', ' photo', 'happy 2017', 'population',  ' rich ', 'amazon ', 'apple ', 'mobile', 'wifi', 'corruption', 'somali', 'we need your help', 'stay tuned',  'help', 'purchas', 'geek', 'quote', 'christmas', 'today', 'firefox', 'foxnews', 'tanzania', 'browser', ' beta ', 'all the best', 'meeting up',  \"i'm looking forward\", 'presentation', 'come work', 'ghana', 'citizen', ' dear ',  'geogr', '#localgov', 'bureau', 'cities', 'bugs', 'judge', 'govlive', 'nsa ', 'govt', 'Copernicus', 'excited to be', ' ios ', 'postcode', 'thinking about', 'registe', 'bigot', 'cities', 'bank', 'pdf', 'developer', 'dept',  'german', 'pleased to be', 'region', 'pm', 'agenda', 'white', 'follower', 'tracker', 'news', 'transparency', 'speaker', ' sign ', ' signed ', 'signup', ' elect', 'ottawa', '#iot', 'hack', 'chatting', 'look forward', 'looking forward', 'fwrd', 'real time', 'opendatato', '#gov', '#iog', 'patient', 'workshop', 'marc', 'facebook', 'squirt', 'slurp', 'caffein', 'reuters', 'app', 'transparent', 'mountain', ' fan ', 'ventura', 'new cases', ' crypto', 'california', '#okfest', '#opengov', 'africa', 'salary', 'testkit', 'mylab', 'icmr', 'india',  'findora', 'tutorial', ' opt ', 'poem', 'government', 'odifridays', 'java', ' gun', 'LD 1910', 'eureka']#summit, public health, 'infected', 'EO_OPEN_SCIENCE', 'peer','cloud', 'regulation','summit', 'policy', 'conference', # [' LA ', 'NYC'], ' uk ', 'seminar', ' new york ', ' newyork', 'toronto',"
      ]
    },
    {
      "cell_type": "code",
      "execution_count": null,
      "metadata": {
        "id": "JcAraWRevBwY"
      },
      "outputs": [],
      "source": [
        "data_merge_clean = data_merge.loc[~data_merge['text'].str.contains('|'.join(remove_tweets), case=False)]"
      ]
    },
    {
      "cell_type": "markdown",
      "metadata": {
        "id": "3wKMf5LGCqAt"
      },
      "source": [
        "We drop tweets by author id. The list has been determined after a manual scan."
      ]
    },
    {
      "cell_type": "code",
      "execution_count": null,
      "metadata": {
        "id": "xbmthGEIC2oC"
      },
      "outputs": [],
      "source": [
        "remove_author_id = [3378865745, 2895978157, 2925060501, 132737300, 352650591, 304572237, 352650591, 14739956, 118012929, 300036810, 1115904375518576640, 967517677249064960, 976538112, 2793987281, 2599797763]"
      ]
    },
    {
      "cell_type": "code",
      "execution_count": null,
      "metadata": {
        "id": "U94bvPC2DAls"
      },
      "outputs": [],
      "source": [
        "data_merge_clean = data_merge_clean.loc[~data_merge_clean['author_id'].isin(remove_author_id)]"
      ]
    },
    {
      "cell_type": "markdown",
      "metadata": {
        "id": "nzppsTDywCVb"
      },
      "source": [
        "We drop tweets in which the number of tags is higher than the number of words."
      ]
    },
    {
      "cell_type": "code",
      "execution_count": null,
      "metadata": {
        "id": "gBC0WS88epO_"
      },
      "outputs": [],
      "source": [
        "def less_tags(text):\n",
        "    lista_ok= []\n",
        "    lista_tag= []\n",
        "    num_tags = [l for l in text.split(' ') if len(l) > 0 and l[0]=='@']\n",
        "    num_not = [l for l in text.split(' ') if len(l) > 0 and l[0]!='@' and l[0]!='#']\n",
        "    if len(num_tags) < len(num_not):\n",
        "        return text\n",
        "    else:\n",
        "        return 0"
      ]
    },
    {
      "cell_type": "code",
      "execution_count": null,
      "metadata": {
        "id": "1cc36aSnifub",
        "colab": {
          "base_uri": "https://localhost:8080/",
          "height": 49,
          "referenced_widgets": [
            "855425ba3a5a4d38849e27c2962249ca",
            "cb58d61860954a7ea7cd4e7153eb27de",
            "87103a8080f84fa9b6628be14c2de61a",
            "231140850ab74acfa0a1ccf549e969d6",
            "6415f00095794e5fab8d5fa062bdbe52",
            "49805b4482844d3991078c2c2695a339",
            "224c95fce8494ea8a2e3acd27a96b66d",
            "40127f1045c744f8a4900983951c1fd7",
            "d7bd042855c14d63aa3ac4636c654af5",
            "42f4eed99bc84c3b81efde16b52afa88",
            "02b338f7596d4756afb6a7d517f93fcc"
          ]
        },
        "outputId": "a0bc8109-39d0-478f-9866-3f182b58cfa0"
      },
      "outputs": [
        {
          "output_type": "display_data",
          "data": {
            "application/vnd.jupyter.widget-view+json": {
              "model_id": "855425ba3a5a4d38849e27c2962249ca",
              "version_minor": 0,
              "version_major": 2
            },
            "text/plain": [
              "  0%|          | 0/233655 [00:00<?, ?it/s]"
            ]
          },
          "metadata": {}
        }
      ],
      "source": [
        "less_tags = data_merge_clean[\"text\"].progress_apply(lambda text: less_tags(text))"
      ]
    },
    {
      "cell_type": "code",
      "execution_count": null,
      "metadata": {
        "id": "gC6TCiB9uwTC"
      },
      "outputs": [],
      "source": [
        "drop_list_tag = less_tags[less_tags==0].index"
      ]
    },
    {
      "cell_type": "code",
      "execution_count": null,
      "metadata": {
        "id": "9mLGb94yxqgk"
      },
      "outputs": [],
      "source": [
        "data_merge_clean = data_merge_clean[~data_merge_clean.index.isin(drop_list_tag)]"
      ]
    },
    {
      "cell_type": "code",
      "execution_count": null,
      "metadata": {
        "id": "lFHvis7uAnXd"
      },
      "outputs": [],
      "source": [
        "data_merge_preclean = data_merge_clean"
      ]
    },
    {
      "cell_type": "code",
      "execution_count": null,
      "metadata": {
        "id": "26LHL1psDRhi",
        "colab": {
          "base_uri": "https://localhost:8080/"
        },
        "outputId": "b5796d2d-4f53-4a72-fa99-31ccfc190aab"
      },
      "outputs": [
        {
          "output_type": "execute_result",
          "data": {
            "text/plain": [
              "231226"
            ]
          },
          "metadata": {},
          "execution_count": 20
        }
      ],
      "source": [
        "data_merge_preclean.shape[0]"
      ]
    },
    {
      "cell_type": "markdown",
      "metadata": {
        "id": "MhWwiv_Lrfsc"
      },
      "source": [
        "Save cleaned df merge excluding rows extracted in previous data collection."
      ]
    },
    {
      "cell_type": "code",
      "execution_count": null,
      "metadata": {
        "id": "sWTUPMvmrfVV"
      },
      "outputs": [],
      "source": [
        "# Save merged df - full data\n",
        "with open(\"/content/drive/MyDrive/Università/Thesis/data_merge_preclean.pkl\", \"wb\") as f:\n",
        "    pickle.dump(data_merge_preclean, f)"
      ]
    },
    {
      "cell_type": "markdown",
      "metadata": {
        "id": "oRd0Y8HBsllu"
      },
      "source": [
        "If needed, load back dfs."
      ]
    },
    {
      "cell_type": "code",
      "execution_count": null,
      "metadata": {
        "id": "m1jUNoC_sQ5b"
      },
      "outputs": [],
      "source": [
        "with open(\"/content/drive/MyDrive/Università/Thesis/data_merge_preclean.pkl\", \"rb\") as f:\n",
        "    data_merge_preclean = pickle.load(f)"
      ]
    },
    {
      "cell_type": "code",
      "execution_count": null,
      "metadata": {
        "id": "psnRuZJmq3Hw"
      },
      "outputs": [],
      "source": [
        "data_merge = data_merge_preclean"
      ]
    },
    {
      "cell_type": "markdown",
      "metadata": {
        "id": "ZYxzmSS1mSv4"
      },
      "source": [
        "### 3.3 Extract hashtags"
      ]
    },
    {
      "cell_type": "markdown",
      "metadata": {
        "id": "f17RfKQqzR7o"
      },
      "source": [
        "We define a function to extract hashtags (#) found in each tweets and append them in a new column named \"hashtags\"."
      ]
    },
    {
      "cell_type": "code",
      "execution_count": null,
      "metadata": {
        "id": "z5BNGon_mWCQ"
      },
      "outputs": [],
      "source": [
        "def extract_hashtags(text):\n",
        "     \n",
        "    # initializing hashtag_list variable\n",
        "    hashtag_list = []\n",
        "\n",
        "    for tweet in text: \n",
        "        # splitting the text into words\n",
        "        for word in text.split():\n",
        "            \n",
        "            # checking the first character of every word\n",
        "            if word[0] == '#':\n",
        "                \n",
        "                # adding the word to the hashtag_list\n",
        "                if word[1:].lower() not in hashtag_list:\n",
        "                    hashtag_list.append(word[1:].lower())\n",
        "    \n",
        "    hashtag_str = ' '.join(hashtag_list)\n",
        "\n",
        "    return hashtag_str"
      ]
    },
    {
      "cell_type": "code",
      "execution_count": null,
      "metadata": {
        "id": "uAKst-xjm2UW"
      },
      "outputs": [],
      "source": [
        "data_merge['hashtags'] = [extract_hashtags(x) for x in data_merge.text]"
      ]
    },
    {
      "cell_type": "code",
      "execution_count": null,
      "metadata": {
        "id": "3S4ObCe0z5fJ"
      },
      "outputs": [],
      "source": [
        "data_merge['hashtags'] = [x.replace(',','').replace('.','').replace('!','').replace('?','').replace(':','') for x in data_merge['hashtags'] ]"
      ]
    },
    {
      "cell_type": "code",
      "execution_count": null,
      "metadata": {
        "id": "5MFA_eJMGfiH",
        "colab": {
          "base_uri": "https://localhost:8080/"
        },
        "outputId": "339bccf5-c1c6-4cae-aa8e-fd016a53edfb"
      },
      "outputs": [
        {
          "output_type": "execute_result",
          "data": {
            "text/plain": [
              "101546"
            ]
          },
          "metadata": {},
          "execution_count": 27
        }
      ],
      "source": [
        "# Number of tweets without hashtags\n",
        "len(data_merge[data_merge['hashtags'] == '']) # 95745"
      ]
    },
    {
      "cell_type": "code",
      "execution_count": null,
      "metadata": {
        "id": "O2cL57rQBMLz",
        "colab": {
          "base_uri": "https://localhost:8080/"
        },
        "outputId": "cf98a48d-9b06-4628-b77b-f4a85fb17897"
      },
      "outputs": [
        {
          "output_type": "execute_result",
          "data": {
            "text/plain": [
              "45385"
            ]
          },
          "metadata": {},
          "execution_count": 28
        }
      ],
      "source": [
        "# Number of unique hastags\n",
        "unique_hashtags = []\n",
        "for row in data_merge['hashtags']:\n",
        "    for x in row.split(' '):\n",
        "        if x not in unique_hashtags:\n",
        "            unique_hashtags.append(x)\n",
        "len(unique_hashtags) # 42552"
      ]
    },
    {
      "cell_type": "markdown",
      "metadata": {
        "id": "EH974B42FAPZ"
      },
      "source": [
        "### 3.4 Extract tags"
      ]
    },
    {
      "cell_type": "markdown",
      "metadata": {
        "id": "RBh0G1s0zr0X"
      },
      "source": [
        "We define a function to extract tags (@) found in each tweets and append them in a new column named \"tags\"."
      ]
    },
    {
      "cell_type": "code",
      "execution_count": null,
      "metadata": {
        "id": "1MGoSDsuE_9S"
      },
      "outputs": [],
      "source": [
        "def extract_tags(text):\n",
        "     \n",
        "    # initializing tag list variable\n",
        "    tag_list = []\n",
        "\n",
        "    for tweet in text: \n",
        "        # splitting the text into words\n",
        "        for word in text.split():\n",
        "            \n",
        "            # checking the first character of every word\n",
        "            if word[0] == '@':\n",
        "                \n",
        "                # adding the word to the hashtag_list\n",
        "                if word[1:].lower() not in tag_list:\n",
        "                    tag_list.append(word[1:].lower())\n",
        "\n",
        "    return tag_list"
      ]
    },
    {
      "cell_type": "code",
      "execution_count": null,
      "metadata": {
        "id": "lnIguVInXGHw"
      },
      "outputs": [],
      "source": [
        "data_merge['tags'] = [' '.join(extract_tags(x)).strip() for x in data_merge.text]\n",
        "data_merge['n_tags'] = [len(extract_tags(x)) for x in data_merge.text]"
      ]
    },
    {
      "cell_type": "code",
      "execution_count": null,
      "metadata": {
        "id": "9bKtORBUFgrx",
        "colab": {
          "base_uri": "https://localhost:8080/"
        },
        "outputId": "8529fd52-6e8f-42a2-88d9-879a26d8a3c5"
      },
      "outputs": [
        {
          "output_type": "execute_result",
          "data": {
            "text/plain": [
              "84306"
            ]
          },
          "metadata": {},
          "execution_count": 31
        }
      ],
      "source": [
        "# Number of tweets without tags - full data\n",
        "len(data_merge[data_merge['tags'] == '']) # 78126"
      ]
    },
    {
      "cell_type": "markdown",
      "metadata": {
        "id": "cOou820UUwmX"
      },
      "source": [
        "### 3.5 Extract websites"
      ]
    },
    {
      "cell_type": "markdown",
      "metadata": {
        "id": "xjaUwGe7zz4w"
      },
      "source": [
        "We define a function to extract links (http and www) found in each tweets and append them in a new column named \"websites\"."
      ]
    },
    {
      "cell_type": "code",
      "execution_count": null,
      "metadata": {
        "id": "TgIlXBjgUzjV"
      },
      "outputs": [],
      "source": [
        "def extract_links(text):\n",
        "     \n",
        "    # initializing site_list variable\n",
        "    site_list = []\n",
        "\n",
        "    for tweet in text: \n",
        "        for word in text.split():\n",
        "        \n",
        "            if word.startswith(\"http\")== True or word.startswith(\"www\")== True:\n",
        "\n",
        "            # adding only new word to the website list\n",
        "                if word.lower() not in site_list:\n",
        "                    site_list.append(word.lower())\n",
        "        \n",
        "    site_str = ' '.join(site_list)\n",
        "\n",
        "    return site_str"
      ]
    },
    {
      "cell_type": "code",
      "execution_count": null,
      "metadata": {
        "id": "owZaXXZWVF-m"
      },
      "outputs": [],
      "source": [
        "data_merge['websites'] = [extract_links(x) for x in data_merge.text]"
      ]
    },
    {
      "cell_type": "code",
      "execution_count": null,
      "metadata": {
        "id": "olWDVAwMZR8H",
        "colab": {
          "base_uri": "https://localhost:8080/"
        },
        "outputId": "2d319fcc-d427-4b75-f848-0e15b18223a5"
      },
      "outputs": [
        {
          "output_type": "execute_result",
          "data": {
            "text/plain": [
              "230712"
            ]
          },
          "metadata": {},
          "execution_count": 34
        }
      ],
      "source": [
        "# Number of tweets without website links - full data\n",
        "len(data_merge[data_merge['websites'] == '']) # 215028"
      ]
    },
    {
      "cell_type": "markdown",
      "metadata": {
        "id": "l-Wif5zFOth9"
      },
      "source": [
        "### 3.6 Cleaning code"
      ]
    },
    {
      "cell_type": "markdown",
      "metadata": {
        "id": "eL_X5qmB-HBW"
      },
      "source": [
        "We define a new column containing cleaned tweets: we cleaned textual data by removing contractions and taking off links, tags, punctuation and stopwords.\n",
        "\n",
        "Furthermore, we detect language of each tweet by using *langdetect* library: in this way, we are able to drop out tweets that are not written in english.\n",
        "\n",
        "At the end of cleaning, is there is no remaining lemma in the new column *text_clean*, we drop the row."
      ]
    },
    {
      "cell_type": "code",
      "execution_count": null,
      "metadata": {
        "id": "huV7VCuwkvrN"
      },
      "outputs": [],
      "source": [
        "nlp = spacy.load(\"en_core_web_sm\")"
      ]
    },
    {
      "cell_type": "code",
      "execution_count": null,
      "metadata": {
        "id": "WGIuM5a6Ov8z"
      },
      "outputs": [],
      "source": [
        "def full_text_clean(text):\n",
        "\n",
        "    text = text.lower()\n",
        "\n",
        "    elem = (\n",
        "        text.replace(\"don't\",'do not')\n",
        "        .replace(\"can't\",'cannot')\n",
        "        .replace(\"&amp;\", \"and\")\n",
        "        .replace(\"'re\", \" are\")\n",
        "        .replace(\" open data \", \" opendata \")\n",
        "        .replace(\" data sharing \", \" datasharing \")\n",
        "        .replace(\" data share \", \" datasharing \")\n",
        "        .replace(\" datashare \", \" datasharing \")\n",
        "        .replace(\" open science \", \" openscience \")\n",
        "        .replace(\" open research \", \" openresearch \")\n",
        "        .replace(\"#oa\", \"#openaccess\")\n",
        "        .replace(\" oa \", \" openaccess \")\n",
        "        .replace(\"meta data\", \"metadata\")\n",
        "        .replace(\" iso \", \"\")\n",
        "        .replace(\"etc\", \"\")\n",
        "        )\n",
        "\n",
        "    elem = unidecode(re.sub(' +', ' ', elem.strip())) #any additional whitespaces and foreign characters\n",
        "    elem = elem.strip()\n",
        "    elem = elem.lower()\n",
        "    elem = re.sub(\"@[A-Za-z0-9_]+\",\"\", elem) # no tags\n",
        "    elem = re.sub(\"#([a-zA-Z0-9_]{1,50})\", \"\", elem) # no hashtags\n",
        "    elem = re.sub(r\"http\\S+\", \"\", elem) # no links\n",
        "    elem = re.sub(r\"www.\\S+\", \"\", elem) # no links\n",
        "    elem = re.sub('[()!?]', ' ', elem) # no punctuation\n",
        "    elem = re.sub('\\[.*?\\]',' ', elem) # no punctuation\n",
        "    elem = re.sub(\"[^a-z0-9]\",\" \", elem) # no alphanumeric \n",
        "\n",
        "    elem = unidecode(re.sub(' +', ' ', elem.strip()))\n",
        "    elem = elem.strip()\n",
        "\n",
        "    if elem.strip() == '' or pd.isna(elem):\n",
        "        return ''\n",
        "\n",
        "    result = []\n",
        "\n",
        "    if detect(elem) == 'en':   \n",
        "\n",
        "        doc = nlp(elem)\n",
        "\n",
        "        \n",
        "        for token in doc:\n",
        "            if (len(token.text) > 1 \n",
        "                and token.text.isalpha() # Token is word\n",
        "                and token.pos_ not in ['NUM']   # Token not NUM, PROPN nor ADV,, , 'ADV', 'PRON', 'CONJ', 'PROPN']\n",
        "                and not token.is_punct # Token not punctuation\n",
        "                and not token.is_stop # Token not stopword\n",
        "            ):\n",
        "\n",
        "                result.append(token.lemma_.lower().replace(\"datum\", \"data\").replace(\"medium\", \"media\").replace(\"datashare\", \"datasharing\"))\n",
        "    \n",
        "    result = \" \".join([i for i in result if len(i) > 2 ])\n",
        "    \n",
        "    return result"
      ]
    },
    {
      "cell_type": "code",
      "execution_count": null,
      "metadata": {
        "id": "dy7hSM3OPA6K",
        "colab": {
          "base_uri": "https://localhost:8080/",
          "height": 49,
          "referenced_widgets": [
            "964099e7031e48e5986b3cf12fbab594",
            "23032d564e094f5e95c35a06c5d43e5e",
            "280485ae94a44d609fee49a44b5860b3",
            "711053e5470a4aafb9595d5576f8d293",
            "a3e80a5d57c640a883f8b542d04bec7f",
            "712abd3474f743e19f2463bb09cf047e",
            "81108a54d0fb4815b8d3b4c71930d04a",
            "d2928f13e4114fcc864ceca8425773b3",
            "2fb6099dace8410784ff316b2fe7fecf",
            "216dea1509f04a40994d9ad7ea3f284b",
            "420e14d542fe43dfb69906cc76a76a8c"
          ]
        },
        "outputId": "c25190c8-a544-4d2d-c0e2-8eac906a0a6b"
      },
      "outputs": [
        {
          "output_type": "display_data",
          "data": {
            "application/vnd.jupyter.widget-view+json": {
              "model_id": "964099e7031e48e5986b3cf12fbab594",
              "version_minor": 0,
              "version_major": 2
            },
            "text/plain": [
              "  0%|          | 0/231226 [00:00<?, ?it/s]"
            ]
          },
          "metadata": {}
        }
      ],
      "source": [
        "data_merge['text_clean'] = data_merge[\"text\"].progress_apply(lambda x: full_text_clean(x)) # 1h 12min"
      ]
    },
    {
      "cell_type": "markdown",
      "metadata": {
        "id": "xNsCXXdIFh19"
      },
      "source": [
        "After cleaning, the resulting dataframe contains 209160 rows."
      ]
    },
    {
      "cell_type": "code",
      "execution_count": null,
      "metadata": {
        "id": "nCk2JbL1DFci"
      },
      "outputs": [],
      "source": [
        "data_merge_text_clean_nlp = data_merge.drop(data_merge[data_merge.text_clean ==''].index)"
      ]
    },
    {
      "cell_type": "markdown",
      "metadata": {
        "id": "3Aq3T49U3rGl"
      },
      "source": [
        "Then, we create a new column with text cleaned excluding terms we explicitly defined as constraint in the extraction phase, namely: *data, research, sharing, open, science, opendata, openresearch, datasharing, openscience*."
      ]
    },
    {
      "cell_type": "code",
      "execution_count": null,
      "metadata": {
        "id": "9L4uhrkC6I3R"
      },
      "outputs": [],
      "source": [
        "def remove_top_terms(text):\n",
        "    \n",
        "    top_terms = ['data', 'research', 'sharing', 'open', 'science', 'opendata', 'openresearch', 'datasharing', 'openscience']\n",
        "\n",
        "    querywords = text.split()\n",
        "\n",
        "    resultwords  = [word for word in querywords if word.lower() not in top_terms]\n",
        "    \n",
        "    result = \" \".join([i for i in resultwords if len(i) > 2 ])\n",
        "    \n",
        "    return result"
      ]
    },
    {
      "cell_type": "code",
      "execution_count": null,
      "metadata": {
        "id": "HaFFTXOR7PJw",
        "colab": {
          "base_uri": "https://localhost:8080/",
          "height": 49,
          "referenced_widgets": [
            "c066a732f3da4fc2aa78ef418ba22a6b",
            "53337dc5e3f94882be22e1ae7dac3a7d",
            "b5ebec2536b1403a94d938003da2cecc",
            "cc5f6de13007438e875b15fc7a5351ee",
            "7e71e93c6927421ebb9a4e1775eb8d59",
            "4c29407142ca40f29513b9421ec7b8e7",
            "166817e102cc4e518a2af5578e45c3cf",
            "ece530313a964ddca2a18bd9734e27da",
            "b722b4b67f054903a4e2ead76964c9c3",
            "a90855f4431244d084ba817421fac4a1",
            "3dfa6b53067643ad89a758e8bdaaee67"
          ]
        },
        "outputId": "8cfd9885-7539-409f-b5bb-f644b3d21a36"
      },
      "outputs": [
        {
          "output_type": "display_data",
          "data": {
            "application/vnd.jupyter.widget-view+json": {
              "model_id": "c066a732f3da4fc2aa78ef418ba22a6b",
              "version_minor": 0,
              "version_major": 2
            },
            "text/plain": [
              "  0%|          | 0/224784 [00:00<?, ?it/s]"
            ]
          },
          "metadata": {}
        }
      ],
      "source": [
        "data_merge_text_clean_nlp['text_clean_notop'] = data_merge_text_clean_nlp[\"text_clean\"].progress_apply(lambda x: remove_top_terms(x))"
      ]
    },
    {
      "cell_type": "markdown",
      "metadata": {
        "id": "N0At-H6j7t6z"
      },
      "source": [
        "Then, we extract the year of publication of each tweet."
      ]
    },
    {
      "cell_type": "code",
      "execution_count": null,
      "metadata": {
        "id": "0yI_tP303bBE"
      },
      "outputs": [],
      "source": [
        "data_merge_text_clean_nlp['year'] = data_merge_text_clean_nlp['date'].dt.year"
      ]
    },
    {
      "cell_type": "code",
      "execution_count": null,
      "metadata": {
        "id": "cISav3D8lpS2"
      },
      "outputs": [],
      "source": [
        "# Save text clean NLP df - full data \n",
        "with open(\"/content/drive/MyDrive/Università/Thesis/data_merge_text_clean_nlp.pkl\", \"wb\") as f:\n",
        "    pickle.dump(data_merge_text_clean_nlp, f)"
      ]
    },
    {
      "cell_type": "code",
      "execution_count": null,
      "metadata": {
        "id": "3LvteafjcL1u",
        "colab": {
          "base_uri": "https://localhost:8080/"
        },
        "outputId": "ab4311c4-d4fa-47e1-9847-6a82d21e5aae"
      },
      "outputs": [
        {
          "output_type": "execute_result",
          "data": {
            "text/plain": [
              "224784"
            ]
          },
          "metadata": {},
          "execution_count": 43
        }
      ],
      "source": [
        "data_merge_text_clean_nlp.shape[0]"
      ]
    },
    {
      "cell_type": "markdown",
      "metadata": {
        "id": "ID54R7xHEig9"
      },
      "source": [
        "Load back, if needed."
      ]
    },
    {
      "cell_type": "code",
      "execution_count": null,
      "metadata": {
        "id": "AESv27DfEhMu"
      },
      "outputs": [],
      "source": [
        "# Load back text clean NLP df - full data \n",
        "with open(\"/content/drive/MyDrive/Università/Thesis/data_merge_text_clean_nlp.pkl\", \"rb\") as f:\n",
        "    data_merge_text_clean_nlp = pickle.load(f)"
      ]
    },
    {
      "cell_type": "code",
      "execution_count": null,
      "metadata": {
        "id": "g-gl7gcQE43l"
      },
      "outputs": [],
      "source": [
        "data_merge = data_merge_text_clean_nlp "
      ]
    },
    {
      "cell_type": "markdown",
      "metadata": {
        "id": "z3RXMKupv5wR"
      },
      "source": [
        "### 3.7 Number of conversations"
      ]
    },
    {
      "cell_type": "markdown",
      "metadata": {
        "id": "7juL7AIPwOy_"
      },
      "source": [
        "We have 204771 different conversations inside our 224784-row df."
      ]
    },
    {
      "cell_type": "code",
      "execution_count": null,
      "metadata": {
        "id": "WQJylj3VwCOZ",
        "colab": {
          "base_uri": "https://localhost:8080/"
        },
        "outputId": "6de85361-9fec-4da6-d6bb-7300cf31feb1"
      },
      "outputs": [
        {
          "output_type": "execute_result",
          "data": {
            "text/plain": [
              "204771"
            ]
          },
          "metadata": {},
          "execution_count": 47
        }
      ],
      "source": [
        "len(data_merge['conversation_id'].unique())"
      ]
    },
    {
      "cell_type": "code",
      "execution_count": null,
      "metadata": {
        "id": "IZGcuX0GZoBw"
      },
      "outputs": [],
      "source": [
        "conversations_df = pd.DataFrame(data_merge['conversation_id'].value_counts())"
      ]
    },
    {
      "cell_type": "code",
      "execution_count": null,
      "metadata": {
        "id": "ywu6ovQVayQu"
      },
      "outputs": [],
      "source": [
        "conversations_list = data_merge['conversation_id'].value_counts().loc[lambda x : x>1].index.tolist()"
      ]
    },
    {
      "cell_type": "code",
      "execution_count": null,
      "metadata": {
        "id": "fc7F-se8bIPz"
      },
      "outputs": [],
      "source": [
        "data_merge_conversations = data_merge[data_merge['conversation_id'].isin(conversations_list)]"
      ]
    },
    {
      "cell_type": "code",
      "execution_count": null,
      "metadata": {
        "id": "FAG6X8h31Lci"
      },
      "outputs": [],
      "source": [
        "# Save conversations df - full data\n",
        "with open(\"/content/drive/MyDrive/Università/Thesis/data_merge_conversations.pkl\", \"wb\") as f:\n",
        "    pickle.dump(data_merge_conversations, f)"
      ]
    },
    {
      "cell_type": "markdown",
      "metadata": {
        "id": "BKJMNFcEjBTW"
      },
      "source": [
        "---"
      ]
    },
    {
      "cell_type": "markdown",
      "metadata": {
        "id": "F1tYpGRAvBxB"
      },
      "source": [
        "## 4. **PRE AND POST COVID DATA**\n",
        "We split data betweet pre and post Covid19 era.\n",
        "\n",
        "In particular, we consider Pre-Covid19 era tweets published in 2018 and 2019, while we consider Post-Covid19 era tweets published in 2020 and 2021.\n",
        "\n",
        "In the pre-Covid19 era we collected 36706 tweets and in the post-Covid19 era we collected 35574 tweets."
      ]
    },
    {
      "cell_type": "code",
      "execution_count": null,
      "metadata": {
        "id": "lDKVDlhENR3N"
      },
      "outputs": [],
      "source": [
        "data_pre_covid = data_merge[(data_merge['date'].dt.year==2018)|(data_merge['date'].dt.year==2019)]\n",
        "data_post_covid = data_merge[(data_merge['date'].dt.year==2020)|(data_merge['date'].dt.year==2021)]"
      ]
    },
    {
      "cell_type": "code",
      "execution_count": null,
      "metadata": {
        "id": "95ggXVXqvlph",
        "colab": {
          "base_uri": "https://localhost:8080/"
        },
        "outputId": "d663e5a9-5a19-4711-dd58-e205410bb201"
      },
      "outputs": [
        {
          "output_type": "execute_result",
          "data": {
            "text/plain": [
              "(36706, 35574)"
            ]
          },
          "metadata": {},
          "execution_count": 54
        }
      ],
      "source": [
        "data_pre_covid.shape[0], data_post_covid.shape[0]"
      ]
    },
    {
      "cell_type": "code",
      "execution_count": null,
      "metadata": {
        "id": "VBQdQ8sjNBJX"
      },
      "outputs": [],
      "source": [
        "with open(\"/content/drive/MyDrive/Università/Thesis/data_pre_covid.pkl\", \"wb\") as f:\n",
        "    pickle.dump(data_pre_covid, f)\n",
        "with open(\"/content/drive/MyDrive/Università/Thesis/data_post_covid.pkl\", \"wb\") as f:\n",
        "    pickle.dump(data_post_covid, f)"
      ]
    },
    {
      "cell_type": "markdown",
      "metadata": {
        "id": "jPIrAIBeAUeK"
      },
      "source": [
        "---"
      ]
    },
    {
      "cell_type": "markdown",
      "metadata": {
        "id": "0A6NGdWQ5Ane"
      },
      "source": [
        "## 5. **FILTERING DATA**"
      ]
    },
    {
      "cell_type": "markdown",
      "metadata": {
        "id": "Fxjh0Cya5DsN"
      },
      "source": [
        "By joining the data extracted from the queries, we obtain a df with 224784 rows."
      ]
    },
    {
      "cell_type": "code",
      "execution_count": null,
      "metadata": {
        "id": "wKPDGFif5BLm",
        "colab": {
          "base_uri": "https://localhost:8080/"
        },
        "outputId": "7b514928-f850-42a6-dccd-009d2c40c570"
      },
      "outputs": [
        {
          "output_type": "execute_result",
          "data": {
            "text/plain": [
              "224784"
            ]
          },
          "metadata": {},
          "execution_count": 46
        }
      ],
      "source": [
        "data_merge.shape[0]  # 224784"
      ]
    },
    {
      "cell_type": "markdown",
      "metadata": {
        "id": "9TnjUvsQ64qP"
      },
      "source": [
        "Thus, we have to find a way to further filter the df in order to reduce the number of FP."
      ]
    },
    {
      "cell_type": "markdown",
      "metadata": {
        "id": "NcXtmN_OIo5P"
      },
      "source": [
        "We define several ways for filtering the tweets collected, in order to extract relevant tweets.\n",
        "\n",
        "1.   Filter by most frequent users (17545 rows: 8%)\n",
        "2.   Filter by keywords (87256 rows: 39%)\n",
        "3.   Mix all the result above and drop duplicates (97645 rows: 43%)\n"
      ]
    },
    {
      "cell_type": "markdown",
      "metadata": {
        "id": "QXebxoQCmq-d"
      },
      "source": [
        "\n",
        "### 5.1 Filter by most frequent users\n",
        "\n",
        "We take the tweets written by top 100 users most present in data collected."
      ]
    },
    {
      "cell_type": "code",
      "execution_count": null,
      "metadata": {
        "id": "BAoxlj2esX5o",
        "colab": {
          "base_uri": "https://localhost:8080/"
        },
        "outputId": "94f4bb80-8ed4-493d-9fff-a6ba8d535fba"
      },
      "outputs": [
        {
          "output_type": "execute_result",
          "data": {
            "text/plain": [
              "90934"
            ]
          },
          "metadata": {},
          "execution_count": 56
        }
      ],
      "source": [
        "len(data_merge['author_id'].unique()) # we have 90934 different users"
      ]
    },
    {
      "cell_type": "code",
      "execution_count": null,
      "metadata": {
        "id": "B0WWNPw3Dtqa"
      },
      "outputs": [],
      "source": [
        "frequent_users = data_merge['author_id'].value_counts()[:100].sort_values(ascending=False).index.tolist() "
      ]
    },
    {
      "cell_type": "code",
      "execution_count": null,
      "metadata": {
        "id": "WnzJs1UXHLei"
      },
      "outputs": [],
      "source": [
        "filtered_user_df = data_merge[data_merge['author_id'].isin(frequent_users)]"
      ]
    },
    {
      "cell_type": "code",
      "execution_count": null,
      "metadata": {
        "id": "czy2NUtzG0Ci",
        "colab": {
          "base_uri": "https://localhost:8080/"
        },
        "outputId": "b522e654-c0d3-49d2-a0b9-0ccbe1b6ca47"
      },
      "outputs": [
        {
          "output_type": "execute_result",
          "data": {
            "text/plain": [
              "17545"
            ]
          },
          "metadata": {},
          "execution_count": 59
        }
      ],
      "source": [
        "filtered_user_df.shape[0] # 17545 rows: 8% of total rows"
      ]
    },
    {
      "cell_type": "code",
      "execution_count": null,
      "metadata": {
        "id": "-1vw_w-R2ri1"
      },
      "outputs": [],
      "source": [
        "# Save filered by users df\n",
        "with open(\"/content/drive/MyDrive/Università/Thesis/filtered_user_df.pkl\", \"wb\") as f:\n",
        "    pickle.dump(filtered_user_df, f)"
      ]
    },
    {
      "cell_type": "markdown",
      "metadata": {
        "id": "i1dpT2tpI29A"
      },
      "source": [
        "### 5.2 Filter by keywords: research and academy terms"
      ]
    },
    {
      "cell_type": "markdown",
      "metadata": {
        "id": "eehDtVxs7LkD"
      },
      "source": [
        "We selected following relevant keywords \"research\", \"university\", \"academy\", \"publish\", \"professor\", \"availability\", \"PhD\", \"discovery\", \"reproducibility\", \"scientific community\", \"scient\". We filtered for tweets containing their lemmas."
      ]
    },
    {
      "cell_type": "code",
      "execution_count": null,
      "metadata": {
        "id": "VI_lqy_5isS3"
      },
      "outputs": [],
      "source": [
        "# Function for searching tweets with given term / hashtag or retrieving the amount of tweets meeting the condition\n",
        "def search(df, column, term, number=False):\n",
        "    filtered = df[df[column].str.contains(term, case=False)] \n",
        "    if number==False:\n",
        "        return filtered\n",
        "    else:\n",
        "        return len(filtered)"
      ]
    },
    {
      "cell_type": "code",
      "execution_count": null,
      "metadata": {
        "id": "Q001zBCdI2tI",
        "colab": {
          "base_uri": "https://localhost:8080/"
        },
        "outputId": "43664fc7-1347-4b31-e32a-9373f3bba691"
      },
      "outputs": [
        {
          "output_type": "execute_result",
          "data": {
            "text/plain": [
              "1463"
            ]
          },
          "metadata": {},
          "execution_count": 62
        }
      ],
      "source": [
        "filtered_k_university_df = search(data_merge, 'text', 'universit') # 1463 rows\n",
        "filtered_k_university_df.shape[0]"
      ]
    },
    {
      "cell_type": "code",
      "execution_count": null,
      "metadata": {
        "id": "f420fq0rsgdJ",
        "colab": {
          "base_uri": "https://localhost:8080/"
        },
        "outputId": "58c56bde-4a64-436b-9090-18f1cf7aab25"
      },
      "outputs": [
        {
          "output_type": "execute_result",
          "data": {
            "text/plain": [
              "2827"
            ]
          },
          "metadata": {},
          "execution_count": 63
        }
      ],
      "source": [
        "filtered_k_academ_df = search(data_merge, 'text', 'academ') # 2827 rows\n",
        "filtered_k_academ_df.shape[0]"
      ]
    },
    {
      "cell_type": "code",
      "execution_count": null,
      "metadata": {
        "id": "-B3dzdYIJIhj",
        "colab": {
          "base_uri": "https://localhost:8080/"
        },
        "outputId": "b4d3274a-29d4-4a13-b8ae-d0a151686c86"
      },
      "outputs": [
        {
          "output_type": "execute_result",
          "data": {
            "text/plain": [
              "21750"
            ]
          },
          "metadata": {},
          "execution_count": 64
        }
      ],
      "source": [
        "filtered_k_research_df = search(data_merge, 'text', 'research') # 21750  rows\n",
        "filtered_k_research_df.shape[0]"
      ]
    },
    {
      "cell_type": "code",
      "execution_count": null,
      "metadata": {
        "id": "7S2AjNGeF7gd",
        "colab": {
          "base_uri": "https://localhost:8080/"
        },
        "outputId": "2f662780-f61d-4321-dffe-e3055b505a0f"
      },
      "outputs": [
        {
          "output_type": "execute_result",
          "data": {
            "text/plain": [
              "18269"
            ]
          },
          "metadata": {},
          "execution_count": 65
        }
      ],
      "source": [
        "filtered_k_publish_df = search(data_merge, 'text', 'publi') # 18269 rows\n",
        "filtered_k_publish_df.shape[0]"
      ]
    },
    {
      "cell_type": "code",
      "execution_count": null,
      "metadata": {
        "id": "ysRcxk-Ct6U9",
        "colab": {
          "base_uri": "https://localhost:8080/"
        },
        "outputId": "d4a9c1f3-5317-4662-da5b-ec804b6d07a3"
      },
      "outputs": [
        {
          "output_type": "execute_result",
          "data": {
            "text/plain": [
              "3200"
            ]
          },
          "metadata": {},
          "execution_count": 66
        }
      ],
      "source": [
        "filtered_k_prof_df = search(data_merge, 'text', 'prof') # 3200 rows\n",
        "filtered_k_prof_df.shape[0]"
      ]
    },
    {
      "cell_type": "code",
      "execution_count": null,
      "metadata": {
        "id": "_UkF_WNDuAHQ",
        "colab": {
          "base_uri": "https://localhost:8080/"
        },
        "outputId": "279faf1b-2cd9-40dd-89cd-d190bc630b75"
      },
      "outputs": [
        {
          "output_type": "execute_result",
          "data": {
            "text/plain": [
              "4802"
            ]
          },
          "metadata": {},
          "execution_count": 67
        }
      ],
      "source": [
        "filtered_k_available_df = search(data_merge, 'text', 'availab') # 4802 rows\n",
        "filtered_k_available_df.shape[0]"
      ]
    },
    {
      "cell_type": "code",
      "execution_count": null,
      "metadata": {
        "id": "7irxa-vbuGhc",
        "colab": {
          "base_uri": "https://localhost:8080/"
        },
        "outputId": "08373b14-9c43-4b93-d86d-a76a6032c9f0"
      },
      "outputs": [
        {
          "output_type": "execute_result",
          "data": {
            "text/plain": [
              "1493"
            ]
          },
          "metadata": {},
          "execution_count": 68
        }
      ],
      "source": [
        "filtered_k_phd1_df = search(data_merge, 'text', 'phd') # 1493 rows\n",
        "filtered_k_phd1_df.shape[0]"
      ]
    },
    {
      "cell_type": "code",
      "execution_count": null,
      "metadata": {
        "id": "okmIkWthuRez",
        "colab": {
          "base_uri": "https://localhost:8080/"
        },
        "outputId": "025629ca-37ed-4260-a24e-5e44dfeac5ff"
      },
      "outputs": [
        {
          "output_type": "execute_result",
          "data": {
            "text/plain": [
              "22"
            ]
          },
          "metadata": {},
          "execution_count": 69
        }
      ],
      "source": [
        "filtered_k_phd2_df = search(data_merge, 'text', 'p.h.d') # 22 rows\n",
        "filtered_k_phd2_df.shape[0]"
      ]
    },
    {
      "cell_type": "code",
      "execution_count": null,
      "metadata": {
        "id": "mCLNbT1TuWG1",
        "colab": {
          "base_uri": "https://localhost:8080/"
        },
        "outputId": "ccabb423-a368-415b-b3e3-d5fdb69c3648"
      },
      "outputs": [
        {
          "output_type": "execute_result",
          "data": {
            "text/plain": [
              "1229"
            ]
          },
          "metadata": {},
          "execution_count": 70
        }
      ],
      "source": [
        "filtered_k_discovery_df = search(data_merge, 'text', 'discover') # 1229 rows\n",
        "filtered_k_discovery_df.shape[0]"
      ]
    },
    {
      "cell_type": "code",
      "execution_count": null,
      "metadata": {
        "id": "-G7MD-rwuaF1",
        "colab": {
          "base_uri": "https://localhost:8080/"
        },
        "outputId": "3bce92a3-6117-4bf4-8b50-983ffbd883f3"
      },
      "outputs": [
        {
          "output_type": "execute_result",
          "data": {
            "text/plain": [
              "139"
            ]
          },
          "metadata": {},
          "execution_count": 71
        }
      ],
      "source": [
        "filtered_k_scientificommunity_df = search(data_merge, 'text', 'scientific community') # 139 rows\n",
        "filtered_k_scientificommunity_df.shape[0]"
      ]
    },
    {
      "cell_type": "code",
      "execution_count": null,
      "metadata": {
        "id": "ec85CsKevpEV",
        "colab": {
          "base_uri": "https://localhost:8080/"
        },
        "outputId": "d5f5f499-c068-4683-fd7f-d600141986b3"
      },
      "outputs": [
        {
          "output_type": "execute_result",
          "data": {
            "text/plain": [
              "1883"
            ]
          },
          "metadata": {},
          "execution_count": 72
        }
      ],
      "source": [
        "filtered_k_reproducibility_df = search(data_merge, 'text', 'reproducib') # 1883 rows\n",
        "filtered_k_reproducibility_df.shape[0]"
      ]
    },
    {
      "cell_type": "code",
      "source": [
        "filtered_k_scien_df = search(data_merge, 'text', 'scien') # 56977 rows\n",
        "filtered_k_scien_df.shape[0]"
      ],
      "metadata": {
        "colab": {
          "base_uri": "https://localhost:8080/"
        },
        "id": "g-Brg1Lbto9x",
        "outputId": "b7bce774-6ba2-4849-cd96-32f8aa7224bd"
      },
      "execution_count": null,
      "outputs": [
        {
          "output_type": "execute_result",
          "data": {
            "text/plain": [
              "56977"
            ]
          },
          "metadata": {},
          "execution_count": 73
        }
      ]
    },
    {
      "cell_type": "code",
      "execution_count": null,
      "metadata": {
        "id": "U_bSKoJb2ULo"
      },
      "outputs": [],
      "source": [
        "filtered_keywords_df = pd.concat([filtered_k_university_df, filtered_k_academ_df , filtered_k_research_df, filtered_k_publish_df , filtered_k_prof_df , filtered_k_available_df, filtered_k_phd1_df, filtered_k_phd2_df, filtered_k_discovery_df, filtered_k_scientificommunity_df, filtered_k_reproducibility_df, filtered_k_scien_df\n",
        "                              ]).sort_values('date').drop_duplicates().reset_index(drop=True).drop_duplicates(subset=['text'], keep='first')"
      ]
    },
    {
      "cell_type": "code",
      "execution_count": null,
      "metadata": {
        "id": "M5CvtroG7GiS",
        "colab": {
          "base_uri": "https://localhost:8080/"
        },
        "outputId": "de185e2c-b48d-4962-933c-7f1128cfaf94"
      },
      "outputs": [
        {
          "output_type": "execute_result",
          "data": {
            "text/plain": [
              "87256"
            ]
          },
          "metadata": {},
          "execution_count": 75
        }
      ],
      "source": [
        "filtered_keywords_df.shape[0] # 87256 rows: 39% of total rows"
      ]
    },
    {
      "cell_type": "code",
      "execution_count": null,
      "metadata": {
        "id": "ejXCDoz83AMk"
      },
      "outputs": [],
      "source": [
        "# Save filered by keywords df\n",
        "with open(\"/content/drive/MyDrive/Università/Thesis/filtered_keywords_df.pkl\", \"wb\") as f:\n",
        "    pickle.dump(filtered_keywords_df, f)"
      ]
    },
    {
      "cell_type": "markdown",
      "metadata": {
        "id": "BivePKkljggt"
      },
      "source": [
        "### 5.3 Combine dfs of the 2 previous results and drop duplicates"
      ]
    },
    {
      "cell_type": "markdown",
      "metadata": {
        "id": "yIkqlpe_7XAP"
      },
      "source": [
        "We joined the filtered data-frames obtained by using the ways above."
      ]
    },
    {
      "cell_type": "code",
      "execution_count": null,
      "metadata": {
        "id": "nUfZDBCyZ8mw",
        "colab": {
          "base_uri": "https://localhost:8080/"
        },
        "outputId": "9b1bbe18-21ef-4772-c29f-cb538655fb14"
      },
      "outputs": [
        {
          "output_type": "execute_result",
          "data": {
            "text/plain": [
              "104801"
            ]
          },
          "metadata": {},
          "execution_count": 77
        }
      ],
      "source": [
        "filtered_user_df.shape[0] + filtered_keywords_df.shape[0] # simply summing rows without dropping duplicates"
      ]
    },
    {
      "cell_type": "code",
      "execution_count": null,
      "metadata": {
        "id": "j8wVGemfjP51"
      },
      "outputs": [],
      "source": [
        "filtered_data_mix_df = pd.concat([filtered_user_df, filtered_keywords_df\n",
        "                              ]).sort_values('date').drop_duplicates().reset_index(drop=True).drop_duplicates(subset=['text'], keep='first')"
      ]
    },
    {
      "cell_type": "code",
      "execution_count": null,
      "metadata": {
        "id": "mNYCzBerZxXv",
        "colab": {
          "base_uri": "https://localhost:8080/"
        },
        "outputId": "28fd6359-812b-45f6-9329-8cbe824f4876"
      },
      "outputs": [
        {
          "output_type": "execute_result",
          "data": {
            "text/plain": [
              "97645"
            ]
          },
          "metadata": {},
          "execution_count": 79
        }
      ],
      "source": [
        "filtered_data_mix_df.shape[0] # 57928 rows: 28%"
      ]
    },
    {
      "cell_type": "code",
      "execution_count": null,
      "metadata": {
        "id": "DLt2HnBIkkdY"
      },
      "outputs": [],
      "source": [
        "with open(\"/content/drive/MyDrive/Università/Thesis/filtered_data_mix_df.pkl\", \"wb\") as f:\n",
        "    pickle.dump(filtered_data_mix_df, f)"
      ]
    },
    {
      "cell_type": "markdown",
      "metadata": {
        "id": "m9YZJIqHu_db"
      },
      "source": [
        "---"
      ]
    },
    {
      "cell_type": "markdown",
      "metadata": {
        "id": "2nr542zCv1Qk"
      },
      "source": [
        "## 6. **TIME SERIES**\n",
        "We collect tweet counts from 2007 to 2021 containing the following terms/hashtags: *opendata, openscience, openresearch, datasharing*.\n",
        "\n",
        "We build one table for absolute frequencies and one for relative frequencies.\n",
        "\n",
        "Please note, we did not put any constraint on language: we did not filter for english language only."
      ]
    },
    {
      "cell_type": "code",
      "execution_count": null,
      "metadata": {
        "id": "uHhTbTWKviO4"
      },
      "outputs": [],
      "source": [
        "client = tweepy.Client(bearer_token=\"key\")"
      ]
    },
    {
      "cell_type": "code",
      "execution_count": null,
      "metadata": {
        "id": "OKR1zymte1HP"
      },
      "outputs": [],
      "source": [
        "results = []\n",
        "\n",
        "result = client.get_all_tweets_count(\n",
        "    query='#openresearch',\n",
        "    start_time=datetime.datetime(2020, 1, 1),\n",
        "    end_time=datetime.datetime(2020, 12, 31),\n",
        "    granularity=\"day\")\n",
        "\n",
        "results.append(result)"
      ]
    },
    {
      "cell_type": "code",
      "execution_count": null,
      "metadata": {
        "id": "pZ-ohp_55Kze"
      },
      "outputs": [],
      "source": [
        "next_token = \"\"\n",
        "\n",
        "if \"next_token\" in result.meta:\n",
        "    next_token = result.meta[\"next_token\"]"
      ]
    },
    {
      "cell_type": "code",
      "execution_count": null,
      "metadata": {
        "id": "y2LJ0R8G4Z_0"
      },
      "outputs": [],
      "source": [
        "stop = False\n",
        "\n",
        "i = 2 # Because we have already got the first page\n",
        "\n",
        "while not stop:\n",
        "    print(\"Downloading page: \" + str(i))\n",
        "\n",
        "    result = client.get_all_tweets_count(\n",
        "        query='#openresearch',\n",
        "        start_time=datetime.datetime(2020, 1, 1),\n",
        "        end_time=datetime.datetime(2020, 12, 31),\n",
        "        granularity=\"day\",\n",
        "        next_token=next_token\n",
        "    )\n",
        "\n",
        "    results.append(result)\n",
        "\n",
        "    i += 1\n",
        "\n",
        "    if \"next_token\" in result.meta:\n",
        "        next_token = result.meta[\"next_token\"]\n",
        "\n",
        "        if next_token is not None and next_token != \"\":\n",
        "            stop = False\n",
        "        else:\n",
        "            stop\n",
        "    else:\n",
        "        stop = True\n"
      ]
    },
    {
      "cell_type": "code",
      "execution_count": null,
      "metadata": {
        "id": "Lgp1c_fE9VVQ"
      },
      "outputs": [],
      "source": [
        "sum = 0\n",
        "for x in results:\n",
        "    sum +=  x.meta.get('total_tweet_count')\n",
        "sum"
      ]
    },
    {
      "cell_type": "code",
      "execution_count": null,
      "metadata": {
        "id": "bvNczU3s7LQ4"
      },
      "outputs": [],
      "source": [
        "output = []\n",
        "for result in results:\n",
        "    for tweet in result.data:\n",
        "        output.append({'start': tweet['start'], 'end': tweet['end']} ) "
      ]
    },
    {
      "cell_type": "code",
      "execution_count": null,
      "metadata": {
        "id": "QJo40kXp_ldX"
      },
      "outputs": [],
      "source": [
        "[d['start'] for d in output][0][:4]"
      ]
    },
    {
      "cell_type": "code",
      "execution_count": null,
      "metadata": {
        "id": "-xZVVIA55PhK"
      },
      "outputs": [],
      "source": [
        "df_time_count = pd.DataFrame(np.array([[[d['start'] for d in output][0][:4], sum]]), columns=['year', 'count'])"
      ]
    },
    {
      "cell_type": "code",
      "execution_count": null,
      "metadata": {
        "id": "4E_FTBzDDtXI"
      },
      "outputs": [],
      "source": [
        "df_time_count = df_time_count.append(dict(zip(df_time_count.columns,[[d['start'] for d in output][0][:4], sum])), ignore_index=True)"
      ]
    },
    {
      "cell_type": "code",
      "execution_count": null,
      "metadata": {
        "id": "atpJ3OnM7kgz"
      },
      "outputs": [],
      "source": [
        "#df_time_count_openresearch = df_time_count\n",
        "df_time_count_open_research = df_time_count_open_research.drop_duplicates(subset =\"year\").reset_index(drop=True)\n",
        "df_time_count_open_research"
      ]
    },
    {
      "cell_type": "code",
      "execution_count": null,
      "metadata": {
        "id": "TpA58Goa81Z6"
      },
      "outputs": [],
      "source": [
        "with open(\"/content/drive/MyDrive/Università/Thesis/df_time_count_open_research.pkl\", \"wb\") as f:\n",
        "    pickle.dump(df_time_count_open_research, f)"
      ]
    },
    {
      "cell_type": "markdown",
      "metadata": {
        "id": "bkorwe4o91ce"
      },
      "source": [
        "Load back dfs"
      ]
    },
    {
      "cell_type": "code",
      "execution_count": null,
      "metadata": {
        "id": "NsstOGi6DKiW"
      },
      "outputs": [],
      "source": [
        "with open(\"/content/drive/MyDrive/Università/Thesis/df_time_count_h_opendata.pkl\", \"rb\") as f:\n",
        "    df_time_count_h_opendata = pickle.load(f)\n",
        "with open(\"/content/drive/MyDrive/Università/Thesis/df_time_count_opendata.pkl\", \"rb\") as f:\n",
        "    df_time_count_opendata = pickle.load(f)\n",
        "with open(\"/content/drive/MyDrive/Università/Thesis/df_time_count_open_data.pkl\", \"rb\") as f:\n",
        "    df_time_count_open_data = pickle.load(f)"
      ]
    },
    {
      "cell_type": "code",
      "execution_count": null,
      "metadata": {
        "id": "Y0WSmSeXIZQP"
      },
      "outputs": [],
      "source": [
        "with open(\"/content/drive/MyDrive/Università/Thesis/df_time_count_h_openscience.pkl\", \"rb\") as f:\n",
        "    df_time_count_h_openscience = pickle.load(f)\n",
        "with open(\"/content/drive/MyDrive/Università/Thesis/df_time_count_openscience.pkl\", \"rb\") as f:\n",
        "    df_time_count_openscience = pickle.load(f)\n",
        "with open(\"/content/drive/MyDrive/Università/Thesis/df_time_count_open_science.pkl\", \"rb\") as f:\n",
        "    df_time_count_open_science = pickle.load(f)"
      ]
    },
    {
      "cell_type": "code",
      "execution_count": null,
      "metadata": {
        "id": "DzbVsoCS-SuS"
      },
      "outputs": [],
      "source": [
        "with open(\"/content/drive/MyDrive/Università/Thesis/df_time_count_h_openresearch.pkl\", \"rb\") as f:\n",
        "    df_time_count_h_openresearch = pickle.load(f)\n",
        "with open(\"/content/drive/MyDrive/Università/Thesis/df_time_count_openresearch.pkl\", \"rb\") as f:\n",
        "    df_time_count_openresearch = pickle.load(f)\n",
        "with open(\"/content/drive/MyDrive/Università/Thesis/df_time_count_open_research.pkl\", \"rb\") as f:\n",
        "    df_time_count_open_research = pickle.load(f)"
      ]
    },
    {
      "cell_type": "code",
      "execution_count": null,
      "metadata": {
        "id": "nQuO46CH-eAU"
      },
      "outputs": [],
      "source": [
        "with open(\"/content/drive/MyDrive/Università/Thesis/df_time_count_h_datasharing.pkl\", \"rb\") as f:\n",
        "    df_time_count_h_datasharing = pickle.load(f)\n",
        "with open(\"/content/drive/MyDrive/Università/Thesis/df_time_count_datasharing.pkl\", \"rb\") as f:\n",
        "    df_time_count_datasharing = pickle.load(f)\n",
        "with open(\"/content/drive/MyDrive/Università/Thesis/df_time_count_data_sharing.pkl\", \"rb\") as f:\n",
        "    df_time_count_data_sharing = pickle.load(f)"
      ]
    },
    {
      "cell_type": "markdown",
      "metadata": {
        "id": "RPnoA-EL6V9J"
      },
      "source": [
        "We merge dfs by type."
      ]
    },
    {
      "cell_type": "code",
      "execution_count": null,
      "metadata": {
        "id": "Jg7iBl8dIbwJ"
      },
      "outputs": [],
      "source": [
        "df_time_count_hashtags = pd.concat([df_time_count_h_opendata['year'], df_time_count_h_opendata['count'], df_time_count_h_openscience['count'], df_time_count_h_openresearch['count'], df_time_count_h_datasharing['count']], axis=1, \n",
        "                                   keys=['year', '#opendata', '#openscience', '#openresearch', '#datasharing']).astype(str).astype(int)                        "
      ]
    },
    {
      "cell_type": "code",
      "execution_count": null,
      "metadata": {
        "id": "Frzcnj7PY03x"
      },
      "outputs": [],
      "source": [
        "df_time_count_oneterm = pd.concat([df_time_count_opendata['year'], df_time_count_opendata['count'], df_time_count_openscience['count'], df_time_count_openresearch['count'], df_time_count_datasharing['count']], axis=1, \n",
        "                                   keys=['year', 'opendata', 'openscience', 'openresearch', 'datasharing']).astype(str).astype(int)"
      ]
    },
    {
      "cell_type": "code",
      "execution_count": null,
      "metadata": {
        "id": "LJlvFJd4i_4t"
      },
      "outputs": [],
      "source": [
        "df_time_count_twoterms = pd.concat([df_time_count_open_data['year'], df_time_count_open_data['count'], df_time_count_open_science['count'], df_time_count_open_research['count'], df_time_count_data_sharing['count']], axis=1, \n",
        "                                   keys=['year', 'open data', 'open science', 'open research', 'data sharing']).astype(str).astype(int)"
      ]
    },
    {
      "cell_type": "markdown",
      "metadata": {
        "id": "jZDRlbuM6Zez"
      },
      "source": [
        "We serialize dfs"
      ]
    },
    {
      "cell_type": "code",
      "execution_count": null,
      "metadata": {
        "id": "imPHxSFfBBwI"
      },
      "outputs": [],
      "source": [
        "with open(\"/content/drive/MyDrive/Università/Thesis/df_time_count_hashtags.pkl\", \"wb\") as f:\n",
        "    pickle.dump(df_time_count_hashtags, f)\n",
        "with open(\"/content/drive/MyDrive/Università/Thesis/df_time_count_oneterm.pkl\", \"wb\") as f:\n",
        "    pickle.dump(df_time_count_oneterm, f)\n",
        "with open(\"/content/drive/MyDrive/Università/Thesis/df_time_count_twoterms.pkl\", \"wb\") as f:\n",
        "    pickle.dump(df_time_count_twoterms, f)"
      ]
    },
    {
      "cell_type": "markdown",
      "metadata": {
        "id": "LVefWiY92_2l"
      },
      "source": [
        "We compute relative frequencies."
      ]
    },
    {
      "cell_type": "code",
      "execution_count": null,
      "metadata": {
        "id": "w5x3SyF_3G8M"
      },
      "outputs": [],
      "source": [
        "df_time_count_hashtags_relative = df_time_count_hashtags.copy()\n",
        "df_time_count_oneterm_relative = df_time_count_oneterm.copy()\n",
        "df_time_count_twoterms_relative = df_time_count_twoterms.copy()"
      ]
    },
    {
      "cell_type": "code",
      "execution_count": null,
      "metadata": {
        "id": "71onXnEofcon"
      },
      "outputs": [],
      "source": [
        "df_time_count_hashtags_relative['#opendata'] = ((df_time_count_hashtags['#opendata'] /  df_time_count_hashtags['#opendata'].sum()) * 100).round(2)\n",
        "df_time_count_hashtags_relative['#openscience'] = ((df_time_count_hashtags['#openscience'] /  df_time_count_hashtags['#openscience'].sum()) * 100).round(2)\n",
        "df_time_count_hashtags_relative['#openresearch'] = ((df_time_count_hashtags['#openresearch'] /  df_time_count_hashtags['#openresearch'].sum()) * 100).round(2)\n",
        "df_time_count_hashtags_relative['#datasharing'] = ((df_time_count_hashtags['#datasharing'] /  df_time_count_hashtags['#datasharing'].sum()) * 100).round(2)"
      ]
    },
    {
      "cell_type": "code",
      "execution_count": null,
      "metadata": {
        "id": "20DkSp6yhCtU"
      },
      "outputs": [],
      "source": [
        "df_time_count_oneterm_relative['opendata'] = ((df_time_count_oneterm_relative['opendata'] /  df_time_count_oneterm_relative['opendata'].sum()) * 100).round(2)\n",
        "df_time_count_oneterm_relative['openscience'] = ((df_time_count_oneterm_relative['openscience'] /  df_time_count_oneterm_relative['openscience'].sum()) * 100).round(2)\n",
        "df_time_count_oneterm_relative['openresearch'] = ((df_time_count_oneterm_relative['openresearch'] /  df_time_count_oneterm_relative['openresearch'].sum()) * 100).round(2)\n",
        "df_time_count_oneterm_relative['datasharing'] = ((df_time_count_oneterm_relative['datasharing'] /  df_time_count_oneterm_relative['datasharing'].sum()) * 100).round(2)"
      ]
    },
    {
      "cell_type": "code",
      "execution_count": null,
      "metadata": {
        "id": "NokSUNszhdP2"
      },
      "outputs": [],
      "source": [
        "df_time_count_twoterms_relative['open data'] = ((df_time_count_twoterms_relative['open data'] /  df_time_count_twoterms_relative['open data'].sum()) * 100).round(2)\n",
        "df_time_count_twoterms_relative['open science'] = ((df_time_count_twoterms_relative['open science'] /  df_time_count_twoterms_relative['open science'].sum()) * 100).round(2)\n",
        "df_time_count_twoterms_relative['open research'] = ((df_time_count_twoterms_relative['open research'] /  df_time_count_twoterms_relative['open research'].sum()) * 100).round(2)\n",
        "df_time_count_twoterms_relative['data sharing'] = ((df_time_count_twoterms_relative['data sharing'] /  df_time_count_twoterms_relative['data sharing'].sum()) * 100).round(2)"
      ]
    },
    {
      "cell_type": "code",
      "execution_count": null,
      "metadata": {
        "id": "WdP1ENiM3E6p"
      },
      "outputs": [],
      "source": [
        "with open(\"/content/drive/MyDrive/Università/Thesis/df_time_count_hashtags_relative.pkl\", \"wb\") as f:\n",
        "    pickle.dump(df_time_count_hashtags_relative, f)\n",
        "with open(\"/content/drive/MyDrive/Università/Thesis/df_time_count_oneterm_relative.pkl\", \"wb\") as f:\n",
        "    pickle.dump(df_time_count_oneterm_relative, f)\n",
        "with open(\"/content/drive/MyDrive/Università/Thesis/df_time_count_twoterms_relative.pkl\", \"wb\") as f:\n",
        "    pickle.dump(df_time_count_twoterms_relative, f)"
      ]
    },
    {
      "cell_type": "markdown",
      "metadata": {
        "id": "b9Z3aGljAP0D"
      },
      "source": [
        "---"
      ]
    },
    {
      "cell_type": "markdown",
      "metadata": {
        "id": "6Kdn0UB3E2sK"
      },
      "source": [
        "## 7. **FIRST TWEETS**"
      ]
    },
    {
      "cell_type": "markdown",
      "metadata": {
        "id": "3h91e2pabb6l"
      },
      "source": [
        "We look for the fisrt tweet containing at least one of the keywords and hashtags we are working with."
      ]
    },
    {
      "cell_type": "code",
      "source": [
        "with open(\"/content/drive/MyDrive/Università/Thesis/date_h_openresearch.pkl\", \"rb\") as f:\n",
        "    date_h_openresearch = pickle.load(f)"
      ],
      "metadata": {
        "id": "ggJkWHVLo9xc"
      },
      "execution_count": null,
      "outputs": []
    },
    {
      "cell_type": "code",
      "execution_count": null,
      "metadata": {
        "id": "pN8jgU7RLRjb"
      },
      "outputs": [],
      "source": [
        "date_data_sharing = first_data_sharing['date'].min()\n",
        "date_datasharing = first_datasharing['date'].min()\n",
        "date_h_datasharing = first_h_datasharing['date'].min()\n",
        "date_open_data = first_open_data['date'].min()\n",
        "date_opendata = first_opendata['date'].min()\n",
        "date_h_opendata = first_h_opendata['date'].min()\n",
        "date_open_science = first_open_science['date'].min()\n",
        "date_openscience= first_openscience['date'].min()\n",
        "date_h_openscience = first_h_openscience['date'].min()\n",
        "date_open_research = first_open_research['date'].min()\n",
        "date_openresearch = first_openresearch['date'].min()\n",
        "date_h_openresearch = first_h_openresearch['date'].min()"
      ]
    },
    {
      "cell_type": "markdown",
      "metadata": {
        "id": "0wgHFTQgblyi"
      },
      "source": [
        "We print the date and time in which the first tweet was posted."
      ]
    },
    {
      "cell_type": "code",
      "execution_count": null,
      "metadata": {
        "id": "f6KFAcJLMaPt"
      },
      "outputs": [],
      "source": [
        "print('#datasharing', date_h_datasharing, '| datasharing', date_datasharing, '| data sharing', date_data_sharing) # #datasharing 2008-05-14 10:03:45+00:00 | datasharing 2007-08-01 06:20:05+00:00 | data sharing 2007-04-11 01:57:46+00:00"
      ]
    },
    {
      "cell_type": "code",
      "execution_count": null,
      "metadata": {
        "id": "fC7gUplfMt7I"
      },
      "outputs": [],
      "source": [
        "print('#opendata', date_h_opendata, '| opendata', date_opendata, '| open data', date_open_data) # #opendata 2008-04-09 21:14:22+00:00 | opendata 2007-03-12 14:16:20+00:00 | open data 2007-02-16 16:45:05+00:00"
      ]
    },
    {
      "cell_type": "code",
      "execution_count": null,
      "metadata": {
        "id": "Rrlax17NM4BK"
      },
      "outputs": [],
      "source": [
        "print('#openscience', date_h_openscience, '| openscience', date_openscience, '| open science', date_open_science) # #openscience 2008-01-18 05:53:45+00:00 | openscience 2007-09-09 08:06:06+00:00 | open science 2007-07-14 17:18:12+00:00"
      ]
    },
    {
      "cell_type": "code",
      "execution_count": null,
      "metadata": {
        "id": "nsdHocKYNHp3"
      },
      "outputs": [],
      "source": [
        "print('#openresearch', date_h_openresearch, '| openresearch', date_openresearch, '| open research', date_open_research) # #openresearch 2009-06-03 23:52:14+00:00 | openresearch 2008-12-09 18:09:05+00:00 | open research 2007-07-14 17:18:12+00:00"
      ]
    },
    {
      "cell_type": "markdown",
      "metadata": {
        "id": "oVTRkzLBwHGU"
      },
      "source": [
        "---"
      ]
    },
    {
      "cell_type": "markdown",
      "metadata": {
        "id": "Pzf1zpX8AfCK"
      },
      "source": [
        "## 8. **PRE-PROCESSING DATA FILTERED BY KEYWORDS**"
      ]
    },
    {
      "cell_type": "markdown",
      "metadata": {
        "id": "Z5I291bC-wUG"
      },
      "source": [
        "We repeat the previous processes applied on the entire dataset (*data_merge*) only on *filtered_keywords_df* 87256-row dataframe."
      ]
    },
    {
      "cell_type": "code",
      "execution_count": null,
      "metadata": {
        "id": "dJTg5WANBagT",
        "colab": {
          "base_uri": "https://localhost:8080/"
        },
        "outputId": "a1d10352-30f7-4d48-bb68-5347d9c88f33"
      },
      "outputs": [
        {
          "output_type": "execute_result",
          "data": {
            "text/plain": [
              "87256"
            ]
          },
          "metadata": {},
          "execution_count": 81
        }
      ],
      "source": [
        "filtered_keywords_df.shape[0]"
      ]
    },
    {
      "cell_type": "markdown",
      "metadata": {
        "id": "A75CxeBovPk1"
      },
      "source": [
        "We first clean the df, by manually scanning tweets, in order to obtain a more precise data set.\n",
        "\n",
        "The new dataframe contains 11959 tweets."
      ]
    },
    {
      "cell_type": "code",
      "source": [
        "z =  ['research', 'universit', 'academ', 'education', 'open access', 'openaccess', '#oa', ' oa ']"
      ],
      "metadata": {
        "id": "V77B076_vDVt"
      },
      "execution_count": null,
      "outputs": []
    },
    {
      "cell_type": "code",
      "source": [
        "m = ['data', 'openness', 'info', 'find', 'discover', 'stat', 'knowledg', 'datum', 'repo']"
      ],
      "metadata": {
        "id": "dlOOPFgJvE6L"
      },
      "execution_count": null,
      "outputs": []
    },
    {
      "cell_type": "code",
      "source": [
        "research_check = filtered_keywords_df[filtered_keywords_df['text'].str.contains('|'.join(z), case= False)]\n",
        "research_check.shape[0] # 29357"
      ],
      "metadata": {
        "colab": {
          "base_uri": "https://localhost:8080/"
        },
        "id": "L2Eh2pINukxP",
        "outputId": "9c69b92d-e7a3-4b2f-f220-e99db8c52dcb"
      },
      "execution_count": null,
      "outputs": [
        {
          "output_type": "execute_result",
          "data": {
            "text/plain": [
              "29357"
            ]
          },
          "metadata": {},
          "execution_count": 84
        }
      ]
    },
    {
      "cell_type": "code",
      "source": [
        "data_check = research_check[research_check['text'].str.contains('|'.join(m), case= False)]\n",
        "data_check.shape[0] # 15656"
      ],
      "metadata": {
        "colab": {
          "base_uri": "https://localhost:8080/"
        },
        "id": "qxwUSz7WunNy",
        "outputId": "255ac677-0009-407a-e29d-a3d65b29e029"
      },
      "execution_count": null,
      "outputs": [
        {
          "output_type": "execute_result",
          "data": {
            "text/plain": [
              "15656"
            ]
          },
          "metadata": {},
          "execution_count": 85
        }
      ]
    },
    {
      "cell_type": "code",
      "source": [
        "notchecked = data_check[data_check['date'].dt.date > pd.to_datetime(\"2013-04-16\").date()]\n",
        "list_notchecked_tweet_id = notchecked.tweet_id.tolist() # 13723"
      ],
      "metadata": {
        "id": "JURMNZyau-5j"
      },
      "execution_count": null,
      "outputs": []
    },
    {
      "cell_type": "code",
      "source": [
        "len(list_notchecked_tweet_id) # 13723"
      ],
      "metadata": {
        "colab": {
          "base_uri": "https://localhost:8080/"
        },
        "id": "nFAYgqzpvAmO",
        "outputId": "a3056805-db27-4dba-c7b2-e7a22856d525"
      },
      "execution_count": null,
      "outputs": [
        {
          "output_type": "execute_result",
          "data": {
            "text/plain": [
              "13723"
            ]
          },
          "metadata": {},
          "execution_count": 87
        }
      ]
    },
    {
      "cell_type": "code",
      "source": [
        "with open(\"/content/drive/MyDrive/Università/Thesis/list_checked_tweet_id.pkl\", \"rb\") as f:\n",
        "    list_checked_tweet_id = pickle.load(f)"
      ],
      "metadata": {
        "id": "5_Lzg7pCvinG"
      },
      "execution_count": null,
      "outputs": []
    },
    {
      "cell_type": "code",
      "source": [
        "len(list_checked_tweet_id) # 788"
      ],
      "metadata": {
        "colab": {
          "base_uri": "https://localhost:8080/"
        },
        "id": "A6hBTMeuvzSr",
        "outputId": "11680544-b8fd-47ca-f90d-8bc6c6d5f22e"
      },
      "execution_count": null,
      "outputs": [
        {
          "output_type": "execute_result",
          "data": {
            "text/plain": [
              "788"
            ]
          },
          "metadata": {},
          "execution_count": 89
        }
      ]
    },
    {
      "cell_type": "code",
      "source": [
        "list_tweet_id = list_checked_tweet_id + list_notchecked_tweet_id\n",
        "len(list_tweet_id) # 14511"
      ],
      "metadata": {
        "colab": {
          "base_uri": "https://localhost:8080/"
        },
        "id": "9w8TW-j7v3N5",
        "outputId": "ca5f7535-f60d-41aa-e9c6-6182ae3ddd0d"
      },
      "execution_count": null,
      "outputs": [
        {
          "output_type": "execute_result",
          "data": {
            "text/plain": [
              "14511"
            ]
          },
          "metadata": {},
          "execution_count": 90
        }
      ]
    },
    {
      "cell_type": "code",
      "execution_count": null,
      "metadata": {
        "id": "vn9ij50Irhl_"
      },
      "outputs": [],
      "source": [
        "with open(\"/content/drive/MyDrive/Università/Thesis/list_tweet_id.pkl\", \"rb\") as f:\n",
        "    list_tweet_id = pickle.load(f)"
      ]
    },
    {
      "cell_type": "code",
      "execution_count": null,
      "metadata": {
        "id": "pIDnuiKApnbf"
      },
      "outputs": [],
      "source": [
        "keyword_df = filtered_keywords_df[filtered_keywords_df['tweet_id'].isin(list_tweet_id)]"
      ]
    },
    {
      "cell_type": "code",
      "execution_count": null,
      "metadata": {
        "id": "5iP6xpg2p602",
        "colab": {
          "base_uri": "https://localhost:8080/"
        },
        "outputId": "641bba83-7767-4d91-befd-dcb6940a2403"
      },
      "outputs": [
        {
          "output_type": "execute_result",
          "data": {
            "text/plain": [
              "11959"
            ]
          },
          "metadata": {},
          "execution_count": 93
        }
      ],
      "source": [
        "keyword_df.shape[0] # 11959"
      ]
    },
    {
      "cell_type": "code",
      "execution_count": null,
      "metadata": {
        "id": "_fdlHhamqN1f"
      },
      "outputs": [],
      "source": [
        "with open(\"/content/drive/MyDrive/Università/Thesis/keyword_df.pkl\", \"wb\") as f:\n",
        "    pickle.dump(keyword_df, f)"
      ]
    },
    {
      "cell_type": "markdown",
      "metadata": {
        "id": "nhyeXmAKA9eS"
      },
      "source": [
        "Thus, we repeat previous analysis made on the entire set, on this smaller subset.\n",
        "\n",
        "\n",
        "First, we retrieve the number of tweets belonging to each year."
      ]
    },
    {
      "cell_type": "code",
      "execution_count": null,
      "metadata": {
        "id": "R51r639mE-T5",
        "colab": {
          "base_uri": "https://localhost:8080/",
          "height": 488
        },
        "outputId": "75798b71-7ad5-423f-f47a-45cee1411581"
      },
      "outputs": [
        {
          "output_type": "execute_result",
          "data": {
            "text/html": [
              "\n",
              "  <div id=\"df-05ffe77f-bdfb-41fe-88ae-9802d28cf108\">\n",
              "    <div class=\"colab-df-container\">\n",
              "      <div>\n",
              "<style scoped>\n",
              "    .dataframe tbody tr th:only-of-type {\n",
              "        vertical-align: middle;\n",
              "    }\n",
              "\n",
              "    .dataframe tbody tr th {\n",
              "        vertical-align: top;\n",
              "    }\n",
              "\n",
              "    .dataframe thead th {\n",
              "        text-align: right;\n",
              "    }\n",
              "</style>\n",
              "<table border=\"1\" class=\"dataframe\">\n",
              "  <thead>\n",
              "    <tr style=\"text-align: right;\">\n",
              "      <th></th>\n",
              "      <th>year</th>\n",
              "      <th>count</th>\n",
              "    </tr>\n",
              "  </thead>\n",
              "  <tbody>\n",
              "    <tr>\n",
              "      <th>0</th>\n",
              "      <td>2008</td>\n",
              "      <td>13</td>\n",
              "    </tr>\n",
              "    <tr>\n",
              "      <th>1</th>\n",
              "      <td>2009</td>\n",
              "      <td>62</td>\n",
              "    </tr>\n",
              "    <tr>\n",
              "      <th>2</th>\n",
              "      <td>2010</td>\n",
              "      <td>138</td>\n",
              "    </tr>\n",
              "    <tr>\n",
              "      <th>3</th>\n",
              "      <td>2011</td>\n",
              "      <td>172</td>\n",
              "    </tr>\n",
              "    <tr>\n",
              "      <th>4</th>\n",
              "      <td>2012</td>\n",
              "      <td>271</td>\n",
              "    </tr>\n",
              "    <tr>\n",
              "      <th>5</th>\n",
              "      <td>2013</td>\n",
              "      <td>738</td>\n",
              "    </tr>\n",
              "    <tr>\n",
              "      <th>6</th>\n",
              "      <td>2014</td>\n",
              "      <td>1087</td>\n",
              "    </tr>\n",
              "    <tr>\n",
              "      <th>7</th>\n",
              "      <td>2015</td>\n",
              "      <td>1151</td>\n",
              "    </tr>\n",
              "    <tr>\n",
              "      <th>8</th>\n",
              "      <td>2016</td>\n",
              "      <td>1383</td>\n",
              "    </tr>\n",
              "    <tr>\n",
              "      <th>9</th>\n",
              "      <td>2017</td>\n",
              "      <td>1174</td>\n",
              "    </tr>\n",
              "    <tr>\n",
              "      <th>10</th>\n",
              "      <td>2018</td>\n",
              "      <td>1609</td>\n",
              "    </tr>\n",
              "    <tr>\n",
              "      <th>11</th>\n",
              "      <td>2019</td>\n",
              "      <td>1753</td>\n",
              "    </tr>\n",
              "    <tr>\n",
              "      <th>12</th>\n",
              "      <td>2020</td>\n",
              "      <td>1197</td>\n",
              "    </tr>\n",
              "    <tr>\n",
              "      <th>13</th>\n",
              "      <td>2021</td>\n",
              "      <td>1211</td>\n",
              "    </tr>\n",
              "  </tbody>\n",
              "</table>\n",
              "</div>\n",
              "      <button class=\"colab-df-convert\" onclick=\"convertToInteractive('df-05ffe77f-bdfb-41fe-88ae-9802d28cf108')\"\n",
              "              title=\"Convert this dataframe to an interactive table.\"\n",
              "              style=\"display:none;\">\n",
              "        \n",
              "  <svg xmlns=\"http://www.w3.org/2000/svg\" height=\"24px\"viewBox=\"0 0 24 24\"\n",
              "       width=\"24px\">\n",
              "    <path d=\"M0 0h24v24H0V0z\" fill=\"none\"/>\n",
              "    <path d=\"M18.56 5.44l.94 2.06.94-2.06 2.06-.94-2.06-.94-.94-2.06-.94 2.06-2.06.94zm-11 1L8.5 8.5l.94-2.06 2.06-.94-2.06-.94L8.5 2.5l-.94 2.06-2.06.94zm10 10l.94 2.06.94-2.06 2.06-.94-2.06-.94-.94-2.06-.94 2.06-2.06.94z\"/><path d=\"M17.41 7.96l-1.37-1.37c-.4-.4-.92-.59-1.43-.59-.52 0-1.04.2-1.43.59L10.3 9.45l-7.72 7.72c-.78.78-.78 2.05 0 2.83L4 21.41c.39.39.9.59 1.41.59.51 0 1.02-.2 1.41-.59l7.78-7.78 2.81-2.81c.8-.78.8-2.07 0-2.86zM5.41 20L4 18.59l7.72-7.72 1.47 1.35L5.41 20z\"/>\n",
              "  </svg>\n",
              "      </button>\n",
              "      \n",
              "  <style>\n",
              "    .colab-df-container {\n",
              "      display:flex;\n",
              "      flex-wrap:wrap;\n",
              "      gap: 12px;\n",
              "    }\n",
              "\n",
              "    .colab-df-convert {\n",
              "      background-color: #E8F0FE;\n",
              "      border: none;\n",
              "      border-radius: 50%;\n",
              "      cursor: pointer;\n",
              "      display: none;\n",
              "      fill: #1967D2;\n",
              "      height: 32px;\n",
              "      padding: 0 0 0 0;\n",
              "      width: 32px;\n",
              "    }\n",
              "\n",
              "    .colab-df-convert:hover {\n",
              "      background-color: #E2EBFA;\n",
              "      box-shadow: 0px 1px 2px rgba(60, 64, 67, 0.3), 0px 1px 3px 1px rgba(60, 64, 67, 0.15);\n",
              "      fill: #174EA6;\n",
              "    }\n",
              "\n",
              "    [theme=dark] .colab-df-convert {\n",
              "      background-color: #3B4455;\n",
              "      fill: #D2E3FC;\n",
              "    }\n",
              "\n",
              "    [theme=dark] .colab-df-convert:hover {\n",
              "      background-color: #434B5C;\n",
              "      box-shadow: 0px 1px 3px 1px rgba(0, 0, 0, 0.15);\n",
              "      filter: drop-shadow(0px 1px 2px rgba(0, 0, 0, 0.3));\n",
              "      fill: #FFFFFF;\n",
              "    }\n",
              "  </style>\n",
              "\n",
              "      <script>\n",
              "        const buttonEl =\n",
              "          document.querySelector('#df-05ffe77f-bdfb-41fe-88ae-9802d28cf108 button.colab-df-convert');\n",
              "        buttonEl.style.display =\n",
              "          google.colab.kernel.accessAllowed ? 'block' : 'none';\n",
              "\n",
              "        async function convertToInteractive(key) {\n",
              "          const element = document.querySelector('#df-05ffe77f-bdfb-41fe-88ae-9802d28cf108');\n",
              "          const dataTable =\n",
              "            await google.colab.kernel.invokeFunction('convertToInteractive',\n",
              "                                                     [key], {});\n",
              "          if (!dataTable) return;\n",
              "\n",
              "          const docLinkHtml = 'Like what you see? Visit the ' +\n",
              "            '<a target=\"_blank\" href=https://colab.research.google.com/notebooks/data_table.ipynb>data table notebook</a>'\n",
              "            + ' to learn more about interactive tables.';\n",
              "          element.innerHTML = '';\n",
              "          dataTable['output_type'] = 'display_data';\n",
              "          await google.colab.output.renderOutput(dataTable, element);\n",
              "          const docLink = document.createElement('div');\n",
              "          docLink.innerHTML = docLinkHtml;\n",
              "          element.appendChild(docLink);\n",
              "        }\n",
              "      </script>\n",
              "    </div>\n",
              "  </div>\n",
              "  "
            ],
            "text/plain": [
              "    year  count\n",
              "0   2008     13\n",
              "1   2009     62\n",
              "2   2010    138\n",
              "3   2011    172\n",
              "4   2012    271\n",
              "5   2013    738\n",
              "6   2014   1087\n",
              "7   2015   1151\n",
              "8   2016   1383\n",
              "9   2017   1174\n",
              "10  2018   1609\n",
              "11  2019   1753\n",
              "12  2020   1197\n",
              "13  2021   1211"
            ]
          },
          "metadata": {},
          "execution_count": 95
        }
      ],
      "source": [
        "df_count_per_year_filter = pd.DataFrame(keyword_df['date'].dt.year.value_counts()).sort_index().reset_index()\n",
        "df_count_per_year_filter.columns = ['year', 'count']\n",
        "df_count_per_year_filter"
      ]
    },
    {
      "cell_type": "code",
      "execution_count": null,
      "metadata": {
        "id": "JwrdHXQ-BV8r"
      },
      "outputs": [],
      "source": [
        "with open(\"/content/drive/MyDrive/Università/Thesis/df_count_per_year_filter.pkl\", \"wb\") as f:\n",
        "    pickle.dump(df_count_per_year_filter, f)"
      ]
    },
    {
      "cell_type": "markdown",
      "metadata": {
        "id": "4E4QSwHNA4ny"
      },
      "source": [
        "Then, we split data between pre and post Covid19 era."
      ]
    },
    {
      "cell_type": "code",
      "execution_count": null,
      "metadata": {
        "id": "MXiIta0w-5cw"
      },
      "outputs": [],
      "source": [
        "filter_pre_covid = keyword_df[(keyword_df['date'].dt.year==2018)|(keyword_df['date'].dt.year==2019)]\n",
        "filter_post_covid = keyword_df[(keyword_df['date'].dt.year==2020)|(keyword_df['date'].dt.year==2021)]"
      ]
    },
    {
      "cell_type": "code",
      "execution_count": null,
      "metadata": {
        "id": "nju88Es7_AIl",
        "colab": {
          "base_uri": "https://localhost:8080/"
        },
        "outputId": "b7825a4e-d12b-40c3-c272-fd1543250b21"
      },
      "outputs": [
        {
          "output_type": "execute_result",
          "data": {
            "text/plain": [
              "(3362, 2408)"
            ]
          },
          "metadata": {},
          "execution_count": 98
        }
      ],
      "source": [
        "filter_pre_covid.shape[0], filter_post_covid.shape[0]"
      ]
    },
    {
      "cell_type": "code",
      "execution_count": null,
      "metadata": {
        "id": "lVX36-MZ_EHk"
      },
      "outputs": [],
      "source": [
        "with open(\"/content/drive/MyDrive/Università/Thesis/filter_pre_covid.pkl\", \"wb\") as f:\n",
        "    pickle.dump(filter_pre_covid, f)\n",
        "with open(\"/content/drive/MyDrive/Università/Thesis/filter_post_covid.pkl\", \"wb\") as f:\n",
        "    pickle.dump(filter_post_covid, f)"
      ]
    },
    {
      "cell_type": "markdown",
      "metadata": {
        "id": "9cTSolI9SpsZ"
      },
      "source": [
        "We retrieve conversations belonging to the dataframe."
      ]
    },
    {
      "cell_type": "markdown",
      "metadata": {
        "id": "SMu1ULm5S9FK"
      },
      "source": [
        "We have 11583 different conversations inside our 11966-row df, but only 649 of those have more than one tweet in our df."
      ]
    },
    {
      "cell_type": "code",
      "execution_count": null,
      "metadata": {
        "id": "LXIJ_z4CS9FK",
        "colab": {
          "base_uri": "https://localhost:8080/"
        },
        "outputId": "b33a6299-19c7-4bd7-a04e-7c032c1e312b"
      },
      "outputs": [
        {
          "output_type": "execute_result",
          "data": {
            "text/plain": [
              "11583"
            ]
          },
          "metadata": {},
          "execution_count": 100
        }
      ],
      "source": [
        "len(keyword_df['conversation_id'].unique())"
      ]
    },
    {
      "cell_type": "code",
      "execution_count": null,
      "metadata": {
        "id": "RPqTpPK8S9FL"
      },
      "outputs": [],
      "source": [
        "conversations_df_filter = pd.DataFrame(keyword_df['conversation_id'].value_counts())"
      ]
    },
    {
      "cell_type": "code",
      "execution_count": null,
      "metadata": {
        "id": "M2gqSy_vS9FL"
      },
      "outputs": [],
      "source": [
        "conversations_list_filter = keyword_df['conversation_id'].value_counts().loc[lambda x : x>1].index.tolist()"
      ]
    },
    {
      "cell_type": "code",
      "execution_count": null,
      "metadata": {
        "id": "g0pY4sg2S9FL"
      },
      "outputs": [],
      "source": [
        "data_merge_conversations_filter = keyword_df[keyword_df['conversation_id'].isin(conversations_list_filter)]"
      ]
    },
    {
      "cell_type": "code",
      "execution_count": null,
      "metadata": {
        "id": "VgoVRZ_IS9FL",
        "colab": {
          "base_uri": "https://localhost:8080/"
        },
        "outputId": "b0cd1369-c5a7-42b1-a79e-cbed2b4a0a8f"
      },
      "outputs": [
        {
          "output_type": "execute_result",
          "data": {
            "text/plain": [
              "649"
            ]
          },
          "metadata": {},
          "execution_count": 104
        }
      ],
      "source": [
        "data_merge_conversations_filter.shape[0]"
      ]
    },
    {
      "cell_type": "code",
      "execution_count": null,
      "metadata": {
        "id": "xtjzGDDBS9FL"
      },
      "outputs": [],
      "source": [
        "# Save conversations df - full data\n",
        "with open(\"/content/drive/MyDrive/Università/Thesis/data_merge_conversations_filter.pkl\", \"wb\") as f:\n",
        "    pickle.dump(data_merge_conversations_filter, f)"
      ]
    },
    {
      "cell_type": "code",
      "execution_count": null,
      "metadata": {
        "id": "5w04V-aUSwLU"
      },
      "outputs": [],
      "source": [
        ""
      ]
    }
  ],
  "metadata": {
    "colab": {
      "collapsed_sections": [],
      "name": "Thesis_Import.ipynb",
      "provenance": []
    },
    "kernelspec": {
      "display_name": "Python 3",
      "name": "python3"
    },
    "language_info": {
      "name": "python"
    },
    "widgets": {
      "application/vnd.jupyter.widget-state+json": {
        "855425ba3a5a4d38849e27c2962249ca": {
          "model_module": "@jupyter-widgets/controls",
          "model_name": "HBoxModel",
          "model_module_version": "1.5.0",
          "state": {
            "_view_name": "HBoxView",
            "_dom_classes": [],
            "_model_name": "HBoxModel",
            "_view_module": "@jupyter-widgets/controls",
            "_model_module_version": "1.5.0",
            "_view_count": null,
            "_view_module_version": "1.5.0",
            "box_style": "",
            "layout": "IPY_MODEL_cb58d61860954a7ea7cd4e7153eb27de",
            "_model_module": "@jupyter-widgets/controls",
            "children": [
              "IPY_MODEL_87103a8080f84fa9b6628be14c2de61a",
              "IPY_MODEL_231140850ab74acfa0a1ccf549e969d6",
              "IPY_MODEL_6415f00095794e5fab8d5fa062bdbe52"
            ]
          }
        },
        "cb58d61860954a7ea7cd4e7153eb27de": {
          "model_module": "@jupyter-widgets/base",
          "model_name": "LayoutModel",
          "model_module_version": "1.2.0",
          "state": {
            "_view_name": "LayoutView",
            "grid_template_rows": null,
            "right": null,
            "justify_content": null,
            "_view_module": "@jupyter-widgets/base",
            "overflow": null,
            "_model_module_version": "1.2.0",
            "_view_count": null,
            "flex_flow": null,
            "width": null,
            "min_width": null,
            "border": null,
            "align_items": null,
            "bottom": null,
            "_model_module": "@jupyter-widgets/base",
            "top": null,
            "grid_column": null,
            "overflow_y": null,
            "overflow_x": null,
            "grid_auto_flow": null,
            "grid_area": null,
            "grid_template_columns": null,
            "flex": null,
            "_model_name": "LayoutModel",
            "justify_items": null,
            "grid_row": null,
            "max_height": null,
            "align_content": null,
            "visibility": null,
            "align_self": null,
            "height": null,
            "min_height": null,
            "padding": null,
            "grid_auto_rows": null,
            "grid_gap": null,
            "max_width": null,
            "order": null,
            "_view_module_version": "1.2.0",
            "grid_template_areas": null,
            "object_position": null,
            "object_fit": null,
            "grid_auto_columns": null,
            "margin": null,
            "display": null,
            "left": null
          }
        },
        "87103a8080f84fa9b6628be14c2de61a": {
          "model_module": "@jupyter-widgets/controls",
          "model_name": "HTMLModel",
          "model_module_version": "1.5.0",
          "state": {
            "_view_name": "HTMLView",
            "style": "IPY_MODEL_49805b4482844d3991078c2c2695a339",
            "_dom_classes": [],
            "description": "",
            "_model_name": "HTMLModel",
            "placeholder": "​",
            "_view_module": "@jupyter-widgets/controls",
            "_model_module_version": "1.5.0",
            "value": "100%",
            "_view_count": null,
            "_view_module_version": "1.5.0",
            "description_tooltip": null,
            "_model_module": "@jupyter-widgets/controls",
            "layout": "IPY_MODEL_224c95fce8494ea8a2e3acd27a96b66d"
          }
        },
        "231140850ab74acfa0a1ccf549e969d6": {
          "model_module": "@jupyter-widgets/controls",
          "model_name": "FloatProgressModel",
          "model_module_version": "1.5.0",
          "state": {
            "_view_name": "ProgressView",
            "style": "IPY_MODEL_40127f1045c744f8a4900983951c1fd7",
            "_dom_classes": [],
            "description": "",
            "_model_name": "FloatProgressModel",
            "bar_style": "success",
            "max": 233655,
            "_view_module": "@jupyter-widgets/controls",
            "_model_module_version": "1.5.0",
            "value": 233655,
            "_view_count": null,
            "_view_module_version": "1.5.0",
            "orientation": "horizontal",
            "min": 0,
            "description_tooltip": null,
            "_model_module": "@jupyter-widgets/controls",
            "layout": "IPY_MODEL_d7bd042855c14d63aa3ac4636c654af5"
          }
        },
        "6415f00095794e5fab8d5fa062bdbe52": {
          "model_module": "@jupyter-widgets/controls",
          "model_name": "HTMLModel",
          "model_module_version": "1.5.0",
          "state": {
            "_view_name": "HTMLView",
            "style": "IPY_MODEL_42f4eed99bc84c3b81efde16b52afa88",
            "_dom_classes": [],
            "description": "",
            "_model_name": "HTMLModel",
            "placeholder": "​",
            "_view_module": "@jupyter-widgets/controls",
            "_model_module_version": "1.5.0",
            "value": " 233655/233655 [00:03&lt;00:00, 49267.18it/s]",
            "_view_count": null,
            "_view_module_version": "1.5.0",
            "description_tooltip": null,
            "_model_module": "@jupyter-widgets/controls",
            "layout": "IPY_MODEL_02b338f7596d4756afb6a7d517f93fcc"
          }
        },
        "49805b4482844d3991078c2c2695a339": {
          "model_module": "@jupyter-widgets/controls",
          "model_name": "DescriptionStyleModel",
          "model_module_version": "1.5.0",
          "state": {
            "_view_name": "StyleView",
            "_model_name": "DescriptionStyleModel",
            "description_width": "",
            "_view_module": "@jupyter-widgets/base",
            "_model_module_version": "1.5.0",
            "_view_count": null,
            "_view_module_version": "1.2.0",
            "_model_module": "@jupyter-widgets/controls"
          }
        },
        "224c95fce8494ea8a2e3acd27a96b66d": {
          "model_module": "@jupyter-widgets/base",
          "model_name": "LayoutModel",
          "model_module_version": "1.2.0",
          "state": {
            "_view_name": "LayoutView",
            "grid_template_rows": null,
            "right": null,
            "justify_content": null,
            "_view_module": "@jupyter-widgets/base",
            "overflow": null,
            "_model_module_version": "1.2.0",
            "_view_count": null,
            "flex_flow": null,
            "width": null,
            "min_width": null,
            "border": null,
            "align_items": null,
            "bottom": null,
            "_model_module": "@jupyter-widgets/base",
            "top": null,
            "grid_column": null,
            "overflow_y": null,
            "overflow_x": null,
            "grid_auto_flow": null,
            "grid_area": null,
            "grid_template_columns": null,
            "flex": null,
            "_model_name": "LayoutModel",
            "justify_items": null,
            "grid_row": null,
            "max_height": null,
            "align_content": null,
            "visibility": null,
            "align_self": null,
            "height": null,
            "min_height": null,
            "padding": null,
            "grid_auto_rows": null,
            "grid_gap": null,
            "max_width": null,
            "order": null,
            "_view_module_version": "1.2.0",
            "grid_template_areas": null,
            "object_position": null,
            "object_fit": null,
            "grid_auto_columns": null,
            "margin": null,
            "display": null,
            "left": null
          }
        },
        "40127f1045c744f8a4900983951c1fd7": {
          "model_module": "@jupyter-widgets/controls",
          "model_name": "ProgressStyleModel",
          "model_module_version": "1.5.0",
          "state": {
            "_view_name": "StyleView",
            "_model_name": "ProgressStyleModel",
            "description_width": "",
            "_view_module": "@jupyter-widgets/base",
            "_model_module_version": "1.5.0",
            "_view_count": null,
            "_view_module_version": "1.2.0",
            "bar_color": null,
            "_model_module": "@jupyter-widgets/controls"
          }
        },
        "d7bd042855c14d63aa3ac4636c654af5": {
          "model_module": "@jupyter-widgets/base",
          "model_name": "LayoutModel",
          "model_module_version": "1.2.0",
          "state": {
            "_view_name": "LayoutView",
            "grid_template_rows": null,
            "right": null,
            "justify_content": null,
            "_view_module": "@jupyter-widgets/base",
            "overflow": null,
            "_model_module_version": "1.2.0",
            "_view_count": null,
            "flex_flow": null,
            "width": null,
            "min_width": null,
            "border": null,
            "align_items": null,
            "bottom": null,
            "_model_module": "@jupyter-widgets/base",
            "top": null,
            "grid_column": null,
            "overflow_y": null,
            "overflow_x": null,
            "grid_auto_flow": null,
            "grid_area": null,
            "grid_template_columns": null,
            "flex": null,
            "_model_name": "LayoutModel",
            "justify_items": null,
            "grid_row": null,
            "max_height": null,
            "align_content": null,
            "visibility": null,
            "align_self": null,
            "height": null,
            "min_height": null,
            "padding": null,
            "grid_auto_rows": null,
            "grid_gap": null,
            "max_width": null,
            "order": null,
            "_view_module_version": "1.2.0",
            "grid_template_areas": null,
            "object_position": null,
            "object_fit": null,
            "grid_auto_columns": null,
            "margin": null,
            "display": null,
            "left": null
          }
        },
        "42f4eed99bc84c3b81efde16b52afa88": {
          "model_module": "@jupyter-widgets/controls",
          "model_name": "DescriptionStyleModel",
          "model_module_version": "1.5.0",
          "state": {
            "_view_name": "StyleView",
            "_model_name": "DescriptionStyleModel",
            "description_width": "",
            "_view_module": "@jupyter-widgets/base",
            "_model_module_version": "1.5.0",
            "_view_count": null,
            "_view_module_version": "1.2.0",
            "_model_module": "@jupyter-widgets/controls"
          }
        },
        "02b338f7596d4756afb6a7d517f93fcc": {
          "model_module": "@jupyter-widgets/base",
          "model_name": "LayoutModel",
          "model_module_version": "1.2.0",
          "state": {
            "_view_name": "LayoutView",
            "grid_template_rows": null,
            "right": null,
            "justify_content": null,
            "_view_module": "@jupyter-widgets/base",
            "overflow": null,
            "_model_module_version": "1.2.0",
            "_view_count": null,
            "flex_flow": null,
            "width": null,
            "min_width": null,
            "border": null,
            "align_items": null,
            "bottom": null,
            "_model_module": "@jupyter-widgets/base",
            "top": null,
            "grid_column": null,
            "overflow_y": null,
            "overflow_x": null,
            "grid_auto_flow": null,
            "grid_area": null,
            "grid_template_columns": null,
            "flex": null,
            "_model_name": "LayoutModel",
            "justify_items": null,
            "grid_row": null,
            "max_height": null,
            "align_content": null,
            "visibility": null,
            "align_self": null,
            "height": null,
            "min_height": null,
            "padding": null,
            "grid_auto_rows": null,
            "grid_gap": null,
            "max_width": null,
            "order": null,
            "_view_module_version": "1.2.0",
            "grid_template_areas": null,
            "object_position": null,
            "object_fit": null,
            "grid_auto_columns": null,
            "margin": null,
            "display": null,
            "left": null
          }
        },
        "964099e7031e48e5986b3cf12fbab594": {
          "model_module": "@jupyter-widgets/controls",
          "model_name": "HBoxModel",
          "model_module_version": "1.5.0",
          "state": {
            "_view_name": "HBoxView",
            "_dom_classes": [],
            "_model_name": "HBoxModel",
            "_view_module": "@jupyter-widgets/controls",
            "_model_module_version": "1.5.0",
            "_view_count": null,
            "_view_module_version": "1.5.0",
            "box_style": "",
            "layout": "IPY_MODEL_23032d564e094f5e95c35a06c5d43e5e",
            "_model_module": "@jupyter-widgets/controls",
            "children": [
              "IPY_MODEL_280485ae94a44d609fee49a44b5860b3",
              "IPY_MODEL_711053e5470a4aafb9595d5576f8d293",
              "IPY_MODEL_a3e80a5d57c640a883f8b542d04bec7f"
            ]
          }
        },
        "23032d564e094f5e95c35a06c5d43e5e": {
          "model_module": "@jupyter-widgets/base",
          "model_name": "LayoutModel",
          "model_module_version": "1.2.0",
          "state": {
            "_view_name": "LayoutView",
            "grid_template_rows": null,
            "right": null,
            "justify_content": null,
            "_view_module": "@jupyter-widgets/base",
            "overflow": null,
            "_model_module_version": "1.2.0",
            "_view_count": null,
            "flex_flow": null,
            "width": null,
            "min_width": null,
            "border": null,
            "align_items": null,
            "bottom": null,
            "_model_module": "@jupyter-widgets/base",
            "top": null,
            "grid_column": null,
            "overflow_y": null,
            "overflow_x": null,
            "grid_auto_flow": null,
            "grid_area": null,
            "grid_template_columns": null,
            "flex": null,
            "_model_name": "LayoutModel",
            "justify_items": null,
            "grid_row": null,
            "max_height": null,
            "align_content": null,
            "visibility": null,
            "align_self": null,
            "height": null,
            "min_height": null,
            "padding": null,
            "grid_auto_rows": null,
            "grid_gap": null,
            "max_width": null,
            "order": null,
            "_view_module_version": "1.2.0",
            "grid_template_areas": null,
            "object_position": null,
            "object_fit": null,
            "grid_auto_columns": null,
            "margin": null,
            "display": null,
            "left": null
          }
        },
        "280485ae94a44d609fee49a44b5860b3": {
          "model_module": "@jupyter-widgets/controls",
          "model_name": "HTMLModel",
          "model_module_version": "1.5.0",
          "state": {
            "_view_name": "HTMLView",
            "style": "IPY_MODEL_712abd3474f743e19f2463bb09cf047e",
            "_dom_classes": [],
            "description": "",
            "_model_name": "HTMLModel",
            "placeholder": "​",
            "_view_module": "@jupyter-widgets/controls",
            "_model_module_version": "1.5.0",
            "value": "100%",
            "_view_count": null,
            "_view_module_version": "1.5.0",
            "description_tooltip": null,
            "_model_module": "@jupyter-widgets/controls",
            "layout": "IPY_MODEL_81108a54d0fb4815b8d3b4c71930d04a"
          }
        },
        "711053e5470a4aafb9595d5576f8d293": {
          "model_module": "@jupyter-widgets/controls",
          "model_name": "FloatProgressModel",
          "model_module_version": "1.5.0",
          "state": {
            "_view_name": "ProgressView",
            "style": "IPY_MODEL_d2928f13e4114fcc864ceca8425773b3",
            "_dom_classes": [],
            "description": "",
            "_model_name": "FloatProgressModel",
            "bar_style": "success",
            "max": 231226,
            "_view_module": "@jupyter-widgets/controls",
            "_model_module_version": "1.5.0",
            "value": 231226,
            "_view_count": null,
            "_view_module_version": "1.5.0",
            "orientation": "horizontal",
            "min": 0,
            "description_tooltip": null,
            "_model_module": "@jupyter-widgets/controls",
            "layout": "IPY_MODEL_2fb6099dace8410784ff316b2fe7fecf"
          }
        },
        "a3e80a5d57c640a883f8b542d04bec7f": {
          "model_module": "@jupyter-widgets/controls",
          "model_name": "HTMLModel",
          "model_module_version": "1.5.0",
          "state": {
            "_view_name": "HTMLView",
            "style": "IPY_MODEL_216dea1509f04a40994d9ad7ea3f284b",
            "_dom_classes": [],
            "description": "",
            "_model_name": "HTMLModel",
            "placeholder": "​",
            "_view_module": "@jupyter-widgets/controls",
            "_model_module_version": "1.5.0",
            "value": " 231226/231226 [1:04:48&lt;00:00, 59.16it/s]",
            "_view_count": null,
            "_view_module_version": "1.5.0",
            "description_tooltip": null,
            "_model_module": "@jupyter-widgets/controls",
            "layout": "IPY_MODEL_420e14d542fe43dfb69906cc76a76a8c"
          }
        },
        "712abd3474f743e19f2463bb09cf047e": {
          "model_module": "@jupyter-widgets/controls",
          "model_name": "DescriptionStyleModel",
          "model_module_version": "1.5.0",
          "state": {
            "_view_name": "StyleView",
            "_model_name": "DescriptionStyleModel",
            "description_width": "",
            "_view_module": "@jupyter-widgets/base",
            "_model_module_version": "1.5.0",
            "_view_count": null,
            "_view_module_version": "1.2.0",
            "_model_module": "@jupyter-widgets/controls"
          }
        },
        "81108a54d0fb4815b8d3b4c71930d04a": {
          "model_module": "@jupyter-widgets/base",
          "model_name": "LayoutModel",
          "model_module_version": "1.2.0",
          "state": {
            "_view_name": "LayoutView",
            "grid_template_rows": null,
            "right": null,
            "justify_content": null,
            "_view_module": "@jupyter-widgets/base",
            "overflow": null,
            "_model_module_version": "1.2.0",
            "_view_count": null,
            "flex_flow": null,
            "width": null,
            "min_width": null,
            "border": null,
            "align_items": null,
            "bottom": null,
            "_model_module": "@jupyter-widgets/base",
            "top": null,
            "grid_column": null,
            "overflow_y": null,
            "overflow_x": null,
            "grid_auto_flow": null,
            "grid_area": null,
            "grid_template_columns": null,
            "flex": null,
            "_model_name": "LayoutModel",
            "justify_items": null,
            "grid_row": null,
            "max_height": null,
            "align_content": null,
            "visibility": null,
            "align_self": null,
            "height": null,
            "min_height": null,
            "padding": null,
            "grid_auto_rows": null,
            "grid_gap": null,
            "max_width": null,
            "order": null,
            "_view_module_version": "1.2.0",
            "grid_template_areas": null,
            "object_position": null,
            "object_fit": null,
            "grid_auto_columns": null,
            "margin": null,
            "display": null,
            "left": null
          }
        },
        "d2928f13e4114fcc864ceca8425773b3": {
          "model_module": "@jupyter-widgets/controls",
          "model_name": "ProgressStyleModel",
          "model_module_version": "1.5.0",
          "state": {
            "_view_name": "StyleView",
            "_model_name": "ProgressStyleModel",
            "description_width": "",
            "_view_module": "@jupyter-widgets/base",
            "_model_module_version": "1.5.0",
            "_view_count": null,
            "_view_module_version": "1.2.0",
            "bar_color": null,
            "_model_module": "@jupyter-widgets/controls"
          }
        },
        "2fb6099dace8410784ff316b2fe7fecf": {
          "model_module": "@jupyter-widgets/base",
          "model_name": "LayoutModel",
          "model_module_version": "1.2.0",
          "state": {
            "_view_name": "LayoutView",
            "grid_template_rows": null,
            "right": null,
            "justify_content": null,
            "_view_module": "@jupyter-widgets/base",
            "overflow": null,
            "_model_module_version": "1.2.0",
            "_view_count": null,
            "flex_flow": null,
            "width": null,
            "min_width": null,
            "border": null,
            "align_items": null,
            "bottom": null,
            "_model_module": "@jupyter-widgets/base",
            "top": null,
            "grid_column": null,
            "overflow_y": null,
            "overflow_x": null,
            "grid_auto_flow": null,
            "grid_area": null,
            "grid_template_columns": null,
            "flex": null,
            "_model_name": "LayoutModel",
            "justify_items": null,
            "grid_row": null,
            "max_height": null,
            "align_content": null,
            "visibility": null,
            "align_self": null,
            "height": null,
            "min_height": null,
            "padding": null,
            "grid_auto_rows": null,
            "grid_gap": null,
            "max_width": null,
            "order": null,
            "_view_module_version": "1.2.0",
            "grid_template_areas": null,
            "object_position": null,
            "object_fit": null,
            "grid_auto_columns": null,
            "margin": null,
            "display": null,
            "left": null
          }
        },
        "216dea1509f04a40994d9ad7ea3f284b": {
          "model_module": "@jupyter-widgets/controls",
          "model_name": "DescriptionStyleModel",
          "model_module_version": "1.5.0",
          "state": {
            "_view_name": "StyleView",
            "_model_name": "DescriptionStyleModel",
            "description_width": "",
            "_view_module": "@jupyter-widgets/base",
            "_model_module_version": "1.5.0",
            "_view_count": null,
            "_view_module_version": "1.2.0",
            "_model_module": "@jupyter-widgets/controls"
          }
        },
        "420e14d542fe43dfb69906cc76a76a8c": {
          "model_module": "@jupyter-widgets/base",
          "model_name": "LayoutModel",
          "model_module_version": "1.2.0",
          "state": {
            "_view_name": "LayoutView",
            "grid_template_rows": null,
            "right": null,
            "justify_content": null,
            "_view_module": "@jupyter-widgets/base",
            "overflow": null,
            "_model_module_version": "1.2.0",
            "_view_count": null,
            "flex_flow": null,
            "width": null,
            "min_width": null,
            "border": null,
            "align_items": null,
            "bottom": null,
            "_model_module": "@jupyter-widgets/base",
            "top": null,
            "grid_column": null,
            "overflow_y": null,
            "overflow_x": null,
            "grid_auto_flow": null,
            "grid_area": null,
            "grid_template_columns": null,
            "flex": null,
            "_model_name": "LayoutModel",
            "justify_items": null,
            "grid_row": null,
            "max_height": null,
            "align_content": null,
            "visibility": null,
            "align_self": null,
            "height": null,
            "min_height": null,
            "padding": null,
            "grid_auto_rows": null,
            "grid_gap": null,
            "max_width": null,
            "order": null,
            "_view_module_version": "1.2.0",
            "grid_template_areas": null,
            "object_position": null,
            "object_fit": null,
            "grid_auto_columns": null,
            "margin": null,
            "display": null,
            "left": null
          }
        },
        "c066a732f3da4fc2aa78ef418ba22a6b": {
          "model_module": "@jupyter-widgets/controls",
          "model_name": "HBoxModel",
          "model_module_version": "1.5.0",
          "state": {
            "_view_name": "HBoxView",
            "_dom_classes": [],
            "_model_name": "HBoxModel",
            "_view_module": "@jupyter-widgets/controls",
            "_model_module_version": "1.5.0",
            "_view_count": null,
            "_view_module_version": "1.5.0",
            "box_style": "",
            "layout": "IPY_MODEL_53337dc5e3f94882be22e1ae7dac3a7d",
            "_model_module": "@jupyter-widgets/controls",
            "children": [
              "IPY_MODEL_b5ebec2536b1403a94d938003da2cecc",
              "IPY_MODEL_cc5f6de13007438e875b15fc7a5351ee",
              "IPY_MODEL_7e71e93c6927421ebb9a4e1775eb8d59"
            ]
          }
        },
        "53337dc5e3f94882be22e1ae7dac3a7d": {
          "model_module": "@jupyter-widgets/base",
          "model_name": "LayoutModel",
          "model_module_version": "1.2.0",
          "state": {
            "_view_name": "LayoutView",
            "grid_template_rows": null,
            "right": null,
            "justify_content": null,
            "_view_module": "@jupyter-widgets/base",
            "overflow": null,
            "_model_module_version": "1.2.0",
            "_view_count": null,
            "flex_flow": null,
            "width": null,
            "min_width": null,
            "border": null,
            "align_items": null,
            "bottom": null,
            "_model_module": "@jupyter-widgets/base",
            "top": null,
            "grid_column": null,
            "overflow_y": null,
            "overflow_x": null,
            "grid_auto_flow": null,
            "grid_area": null,
            "grid_template_columns": null,
            "flex": null,
            "_model_name": "LayoutModel",
            "justify_items": null,
            "grid_row": null,
            "max_height": null,
            "align_content": null,
            "visibility": null,
            "align_self": null,
            "height": null,
            "min_height": null,
            "padding": null,
            "grid_auto_rows": null,
            "grid_gap": null,
            "max_width": null,
            "order": null,
            "_view_module_version": "1.2.0",
            "grid_template_areas": null,
            "object_position": null,
            "object_fit": null,
            "grid_auto_columns": null,
            "margin": null,
            "display": null,
            "left": null
          }
        },
        "b5ebec2536b1403a94d938003da2cecc": {
          "model_module": "@jupyter-widgets/controls",
          "model_name": "HTMLModel",
          "model_module_version": "1.5.0",
          "state": {
            "_view_name": "HTMLView",
            "style": "IPY_MODEL_4c29407142ca40f29513b9421ec7b8e7",
            "_dom_classes": [],
            "description": "",
            "_model_name": "HTMLModel",
            "placeholder": "​",
            "_view_module": "@jupyter-widgets/controls",
            "_model_module_version": "1.5.0",
            "value": "100%",
            "_view_count": null,
            "_view_module_version": "1.5.0",
            "description_tooltip": null,
            "_model_module": "@jupyter-widgets/controls",
            "layout": "IPY_MODEL_166817e102cc4e518a2af5578e45c3cf"
          }
        },
        "cc5f6de13007438e875b15fc7a5351ee": {
          "model_module": "@jupyter-widgets/controls",
          "model_name": "FloatProgressModel",
          "model_module_version": "1.5.0",
          "state": {
            "_view_name": "ProgressView",
            "style": "IPY_MODEL_ece530313a964ddca2a18bd9734e27da",
            "_dom_classes": [],
            "description": "",
            "_model_name": "FloatProgressModel",
            "bar_style": "success",
            "max": 224784,
            "_view_module": "@jupyter-widgets/controls",
            "_model_module_version": "1.5.0",
            "value": 224784,
            "_view_count": null,
            "_view_module_version": "1.5.0",
            "orientation": "horizontal",
            "min": 0,
            "description_tooltip": null,
            "_model_module": "@jupyter-widgets/controls",
            "layout": "IPY_MODEL_b722b4b67f054903a4e2ead76964c9c3"
          }
        },
        "7e71e93c6927421ebb9a4e1775eb8d59": {
          "model_module": "@jupyter-widgets/controls",
          "model_name": "HTMLModel",
          "model_module_version": "1.5.0",
          "state": {
            "_view_name": "HTMLView",
            "style": "IPY_MODEL_a90855f4431244d084ba817421fac4a1",
            "_dom_classes": [],
            "description": "",
            "_model_name": "HTMLModel",
            "placeholder": "​",
            "_view_module": "@jupyter-widgets/controls",
            "_model_module_version": "1.5.0",
            "value": " 224784/224784 [00:01&lt;00:00, 104384.46it/s]",
            "_view_count": null,
            "_view_module_version": "1.5.0",
            "description_tooltip": null,
            "_model_module": "@jupyter-widgets/controls",
            "layout": "IPY_MODEL_3dfa6b53067643ad89a758e8bdaaee67"
          }
        },
        "4c29407142ca40f29513b9421ec7b8e7": {
          "model_module": "@jupyter-widgets/controls",
          "model_name": "DescriptionStyleModel",
          "model_module_version": "1.5.0",
          "state": {
            "_view_name": "StyleView",
            "_model_name": "DescriptionStyleModel",
            "description_width": "",
            "_view_module": "@jupyter-widgets/base",
            "_model_module_version": "1.5.0",
            "_view_count": null,
            "_view_module_version": "1.2.0",
            "_model_module": "@jupyter-widgets/controls"
          }
        },
        "166817e102cc4e518a2af5578e45c3cf": {
          "model_module": "@jupyter-widgets/base",
          "model_name": "LayoutModel",
          "model_module_version": "1.2.0",
          "state": {
            "_view_name": "LayoutView",
            "grid_template_rows": null,
            "right": null,
            "justify_content": null,
            "_view_module": "@jupyter-widgets/base",
            "overflow": null,
            "_model_module_version": "1.2.0",
            "_view_count": null,
            "flex_flow": null,
            "width": null,
            "min_width": null,
            "border": null,
            "align_items": null,
            "bottom": null,
            "_model_module": "@jupyter-widgets/base",
            "top": null,
            "grid_column": null,
            "overflow_y": null,
            "overflow_x": null,
            "grid_auto_flow": null,
            "grid_area": null,
            "grid_template_columns": null,
            "flex": null,
            "_model_name": "LayoutModel",
            "justify_items": null,
            "grid_row": null,
            "max_height": null,
            "align_content": null,
            "visibility": null,
            "align_self": null,
            "height": null,
            "min_height": null,
            "padding": null,
            "grid_auto_rows": null,
            "grid_gap": null,
            "max_width": null,
            "order": null,
            "_view_module_version": "1.2.0",
            "grid_template_areas": null,
            "object_position": null,
            "object_fit": null,
            "grid_auto_columns": null,
            "margin": null,
            "display": null,
            "left": null
          }
        },
        "ece530313a964ddca2a18bd9734e27da": {
          "model_module": "@jupyter-widgets/controls",
          "model_name": "ProgressStyleModel",
          "model_module_version": "1.5.0",
          "state": {
            "_view_name": "StyleView",
            "_model_name": "ProgressStyleModel",
            "description_width": "",
            "_view_module": "@jupyter-widgets/base",
            "_model_module_version": "1.5.0",
            "_view_count": null,
            "_view_module_version": "1.2.0",
            "bar_color": null,
            "_model_module": "@jupyter-widgets/controls"
          }
        },
        "b722b4b67f054903a4e2ead76964c9c3": {
          "model_module": "@jupyter-widgets/base",
          "model_name": "LayoutModel",
          "model_module_version": "1.2.0",
          "state": {
            "_view_name": "LayoutView",
            "grid_template_rows": null,
            "right": null,
            "justify_content": null,
            "_view_module": "@jupyter-widgets/base",
            "overflow": null,
            "_model_module_version": "1.2.0",
            "_view_count": null,
            "flex_flow": null,
            "width": null,
            "min_width": null,
            "border": null,
            "align_items": null,
            "bottom": null,
            "_model_module": "@jupyter-widgets/base",
            "top": null,
            "grid_column": null,
            "overflow_y": null,
            "overflow_x": null,
            "grid_auto_flow": null,
            "grid_area": null,
            "grid_template_columns": null,
            "flex": null,
            "_model_name": "LayoutModel",
            "justify_items": null,
            "grid_row": null,
            "max_height": null,
            "align_content": null,
            "visibility": null,
            "align_self": null,
            "height": null,
            "min_height": null,
            "padding": null,
            "grid_auto_rows": null,
            "grid_gap": null,
            "max_width": null,
            "order": null,
            "_view_module_version": "1.2.0",
            "grid_template_areas": null,
            "object_position": null,
            "object_fit": null,
            "grid_auto_columns": null,
            "margin": null,
            "display": null,
            "left": null
          }
        },
        "a90855f4431244d084ba817421fac4a1": {
          "model_module": "@jupyter-widgets/controls",
          "model_name": "DescriptionStyleModel",
          "model_module_version": "1.5.0",
          "state": {
            "_view_name": "StyleView",
            "_model_name": "DescriptionStyleModel",
            "description_width": "",
            "_view_module": "@jupyter-widgets/base",
            "_model_module_version": "1.5.0",
            "_view_count": null,
            "_view_module_version": "1.2.0",
            "_model_module": "@jupyter-widgets/controls"
          }
        },
        "3dfa6b53067643ad89a758e8bdaaee67": {
          "model_module": "@jupyter-widgets/base",
          "model_name": "LayoutModel",
          "model_module_version": "1.2.0",
          "state": {
            "_view_name": "LayoutView",
            "grid_template_rows": null,
            "right": null,
            "justify_content": null,
            "_view_module": "@jupyter-widgets/base",
            "overflow": null,
            "_model_module_version": "1.2.0",
            "_view_count": null,
            "flex_flow": null,
            "width": null,
            "min_width": null,
            "border": null,
            "align_items": null,
            "bottom": null,
            "_model_module": "@jupyter-widgets/base",
            "top": null,
            "grid_column": null,
            "overflow_y": null,
            "overflow_x": null,
            "grid_auto_flow": null,
            "grid_area": null,
            "grid_template_columns": null,
            "flex": null,
            "_model_name": "LayoutModel",
            "justify_items": null,
            "grid_row": null,
            "max_height": null,
            "align_content": null,
            "visibility": null,
            "align_self": null,
            "height": null,
            "min_height": null,
            "padding": null,
            "grid_auto_rows": null,
            "grid_gap": null,
            "max_width": null,
            "order": null,
            "_view_module_version": "1.2.0",
            "grid_template_areas": null,
            "object_position": null,
            "object_fit": null,
            "grid_auto_columns": null,
            "margin": null,
            "display": null,
            "left": null
          }
        }
      }
    }
  },
  "nbformat": 4,
  "nbformat_minor": 0
}